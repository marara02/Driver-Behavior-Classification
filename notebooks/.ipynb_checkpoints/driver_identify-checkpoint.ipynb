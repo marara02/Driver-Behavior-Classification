{
 "cells": [
  {
   "cell_type": "code",
   "execution_count": 361,
   "metadata": {
    "pycharm": {
     "is_executing": true
    }
   },
   "outputs": [
    {
     "data": {
      "text/html": [
       "<div>\n",
       "<style scoped>\n",
       "    .dataframe tbody tr th:only-of-type {\n",
       "        vertical-align: middle;\n",
       "    }\n",
       "\n",
       "    .dataframe tbody tr th {\n",
       "        vertical-align: top;\n",
       "    }\n",
       "\n",
       "    .dataframe thead th {\n",
       "        text-align: right;\n",
       "    }\n",
       "</style>\n",
       "<table border=\"1\" class=\"dataframe\">\n",
       "  <thead>\n",
       "    <tr style=\"text-align: right;\">\n",
       "      <th></th>\n",
       "      <th>speed</th>\n",
       "      <th>time</th>\n",
       "      <th>axis_x/Name</th>\n",
       "      <th>axis_x/Value</th>\n",
       "      <th>axis_y/Value</th>\n",
       "      <th>axis_y/Name</th>\n",
       "      <th>axis_z/Value</th>\n",
       "      <th>axis_z/Name</th>\n",
       "      <th>latitude</th>\n",
       "      <th>longitude</th>\n",
       "      <th>eco_type/Name</th>\n",
       "      <th>eco_type/Value</th>\n",
       "    </tr>\n",
       "  </thead>\n",
       "  <tbody>\n",
       "    <tr>\n",
       "      <th>0</th>\n",
       "      <td>12</td>\n",
       "      <td>May 29, 2022</td>\n",
       "      <td>Axis X</td>\n",
       "      <td>-513</td>\n",
       "      <td>-323</td>\n",
       "      <td>Axis Y</td>\n",
       "      <td>-1944</td>\n",
       "      <td>Axis Z</td>\n",
       "      <td>511055000</td>\n",
       "      <td>714309866</td>\n",
       "      <td>Green driving type</td>\n",
       "      <td>1.0</td>\n",
       "    </tr>\n",
       "    <tr>\n",
       "      <th>1</th>\n",
       "      <td>12</td>\n",
       "      <td>May 29, 2022</td>\n",
       "      <td>Axis X</td>\n",
       "      <td>-513</td>\n",
       "      <td>-323</td>\n",
       "      <td>Axis Y</td>\n",
       "      <td>-1944</td>\n",
       "      <td>Axis Z</td>\n",
       "      <td>511055000</td>\n",
       "      <td>714309866</td>\n",
       "      <td>Green driving type</td>\n",
       "      <td>1.0</td>\n",
       "    </tr>\n",
       "    <tr>\n",
       "      <th>2</th>\n",
       "      <td>12</td>\n",
       "      <td>May 29, 2022</td>\n",
       "      <td>Axis X</td>\n",
       "      <td>-513</td>\n",
       "      <td>-323</td>\n",
       "      <td>Axis Y</td>\n",
       "      <td>-1944</td>\n",
       "      <td>Axis Z</td>\n",
       "      <td>511055000</td>\n",
       "      <td>714309866</td>\n",
       "      <td>Green driving type</td>\n",
       "      <td>1.0</td>\n",
       "    </tr>\n",
       "    <tr>\n",
       "      <th>3</th>\n",
       "      <td>12</td>\n",
       "      <td>May 29, 2022</td>\n",
       "      <td>Axis X</td>\n",
       "      <td>-513</td>\n",
       "      <td>-323</td>\n",
       "      <td>Axis Y</td>\n",
       "      <td>-1944</td>\n",
       "      <td>Axis Z</td>\n",
       "      <td>511055000</td>\n",
       "      <td>714309866</td>\n",
       "      <td>Green driving type</td>\n",
       "      <td>1.0</td>\n",
       "    </tr>\n",
       "    <tr>\n",
       "      <th>4</th>\n",
       "      <td>12</td>\n",
       "      <td>May 29, 2022</td>\n",
       "      <td>Axis X</td>\n",
       "      <td>-513</td>\n",
       "      <td>-323</td>\n",
       "      <td>Axis Y</td>\n",
       "      <td>-1944</td>\n",
       "      <td>Axis Z</td>\n",
       "      <td>511055000</td>\n",
       "      <td>714309866</td>\n",
       "      <td>Green driving type</td>\n",
       "      <td>1.0</td>\n",
       "    </tr>\n",
       "    <tr>\n",
       "      <th>...</th>\n",
       "      <td>...</td>\n",
       "      <td>...</td>\n",
       "      <td>...</td>\n",
       "      <td>...</td>\n",
       "      <td>...</td>\n",
       "      <td>...</td>\n",
       "      <td>...</td>\n",
       "      <td>...</td>\n",
       "      <td>...</td>\n",
       "      <td>...</td>\n",
       "      <td>...</td>\n",
       "      <td>...</td>\n",
       "    </tr>\n",
       "    <tr>\n",
       "      <th>544</th>\n",
       "      <td>10</td>\n",
       "      <td>May 29, 2022</td>\n",
       "      <td>Axis X</td>\n",
       "      <td>-631</td>\n",
       "      <td>-370</td>\n",
       "      <td>Axis Y</td>\n",
       "      <td>-1912</td>\n",
       "      <td>Axis Z</td>\n",
       "      <td>510876500</td>\n",
       "      <td>714245050</td>\n",
       "      <td>Green driving type</td>\n",
       "      <td>1.0</td>\n",
       "    </tr>\n",
       "    <tr>\n",
       "      <th>545</th>\n",
       "      <td>14</td>\n",
       "      <td>May 29, 2022</td>\n",
       "      <td>Axis X</td>\n",
       "      <td>-523</td>\n",
       "      <td>-326</td>\n",
       "      <td>Axis Y</td>\n",
       "      <td>-1803</td>\n",
       "      <td>Axis Z</td>\n",
       "      <td>510873966</td>\n",
       "      <td>714244866</td>\n",
       "      <td>NaN</td>\n",
       "      <td>NaN</td>\n",
       "    </tr>\n",
       "    <tr>\n",
       "      <th>546</th>\n",
       "      <td>9</td>\n",
       "      <td>May 29, 2022</td>\n",
       "      <td>Axis X</td>\n",
       "      <td>-476</td>\n",
       "      <td>-335</td>\n",
       "      <td>Axis Y</td>\n",
       "      <td>-1836</td>\n",
       "      <td>Axis Z</td>\n",
       "      <td>510874050</td>\n",
       "      <td>714243850</td>\n",
       "      <td>NaN</td>\n",
       "      <td>NaN</td>\n",
       "    </tr>\n",
       "    <tr>\n",
       "      <th>547</th>\n",
       "      <td>10</td>\n",
       "      <td>May 29, 2022</td>\n",
       "      <td>Axis X</td>\n",
       "      <td>-452</td>\n",
       "      <td>-326</td>\n",
       "      <td>Axis Y</td>\n",
       "      <td>-1860</td>\n",
       "      <td>Axis Z</td>\n",
       "      <td>510873933</td>\n",
       "      <td>714243599</td>\n",
       "      <td>NaN</td>\n",
       "      <td>NaN</td>\n",
       "    </tr>\n",
       "    <tr>\n",
       "      <th>548</th>\n",
       "      <td>16</td>\n",
       "      <td>May 29, 2022</td>\n",
       "      <td>Axis X</td>\n",
       "      <td>-492</td>\n",
       "      <td>-343</td>\n",
       "      <td>Axis Y</td>\n",
       "      <td>-1941</td>\n",
       "      <td>Axis Z</td>\n",
       "      <td>510873733</td>\n",
       "      <td>714243033</td>\n",
       "      <td>NaN</td>\n",
       "      <td>NaN</td>\n",
       "    </tr>\n",
       "  </tbody>\n",
       "</table>\n",
       "<p>549 rows × 12 columns</p>\n",
       "</div>"
      ],
      "text/plain": [
       "     speed          time axis_x/Name  axis_x/Value  axis_y/Value axis_y/Name  \\\n",
       "0       12  May 29, 2022      Axis X          -513          -323      Axis Y   \n",
       "1       12  May 29, 2022      Axis X          -513          -323      Axis Y   \n",
       "2       12  May 29, 2022      Axis X          -513          -323      Axis Y   \n",
       "3       12  May 29, 2022      Axis X          -513          -323      Axis Y   \n",
       "4       12  May 29, 2022      Axis X          -513          -323      Axis Y   \n",
       "..     ...           ...         ...           ...           ...         ...   \n",
       "544     10  May 29, 2022      Axis X          -631          -370      Axis Y   \n",
       "545     14  May 29, 2022      Axis X          -523          -326      Axis Y   \n",
       "546      9  May 29, 2022      Axis X          -476          -335      Axis Y   \n",
       "547     10  May 29, 2022      Axis X          -452          -326      Axis Y   \n",
       "548     16  May 29, 2022      Axis X          -492          -343      Axis Y   \n",
       "\n",
       "     axis_z/Value axis_z/Name   latitude  longitude       eco_type/Name  \\\n",
       "0           -1944      Axis Z  511055000  714309866  Green driving type   \n",
       "1           -1944      Axis Z  511055000  714309866  Green driving type   \n",
       "2           -1944      Axis Z  511055000  714309866  Green driving type   \n",
       "3           -1944      Axis Z  511055000  714309866  Green driving type   \n",
       "4           -1944      Axis Z  511055000  714309866  Green driving type   \n",
       "..            ...         ...        ...        ...                 ...   \n",
       "544         -1912      Axis Z  510876500  714245050  Green driving type   \n",
       "545         -1803      Axis Z  510873966  714244866                 NaN   \n",
       "546         -1836      Axis Z  510874050  714243850                 NaN   \n",
       "547         -1860      Axis Z  510873933  714243599                 NaN   \n",
       "548         -1941      Axis Z  510873733  714243033                 NaN   \n",
       "\n",
       "     eco_type/Value  \n",
       "0               1.0  \n",
       "1               1.0  \n",
       "2               1.0  \n",
       "3               1.0  \n",
       "4               1.0  \n",
       "..              ...  \n",
       "544             1.0  \n",
       "545             NaN  \n",
       "546             NaN  \n",
       "547             NaN  \n",
       "548             NaN  \n",
       "\n",
       "[549 rows x 12 columns]"
      ]
     },
     "execution_count": 361,
     "metadata": {},
     "output_type": "execute_result"
    }
   ],
   "source": [
    "import pandas as pd\n",
    "import matplotlib.pyplot as plt\n",
    "import missingno as msno\n",
    "import numpy as np\n",
    "import seaborn as sns\n",
    "from sklearn.metrics import precision_score, recall_score, f1_score, accuracy_score, confusion_matrix\n",
    "from sklearn.neighbors import KNeighborsClassifier\n",
    "from sklearn.model_selection import train_test_split\n",
    "from sklearn.ensemble import RandomForestClassifier\n",
    "from sklearn.preprocessing import MinMaxScaler\n",
    "from sklearn.linear_model import LogisticRegression\n",
    "from sklearn.model_selection import learning_curve\n",
    "from sklearn.tree import DecisionTreeClassifier\n",
    "from sklearn import tree\n",
    "from sklearn.svm import SVC\n",
    "from sklearn import metrics\n",
    "\n",
    "\n",
    "data = pd.read_csv(\"C:/Users/Student01/scientificProject1/data/data.csv\")\n",
    "data"
   ]
  },
  {
   "cell_type": "markdown",
   "metadata": {},
   "source": [
    "# Data observing"
   ]
  },
  {
   "cell_type": "code",
   "execution_count": 362,
   "metadata": {
    "pycharm": {
     "is_executing": true,
     "name": "#%%\n"
    }
   },
   "outputs": [
    {
     "data": {
      "text/plain": [
       "1.0    133\n",
       "2.0      4\n",
       "3.0      3\n",
       "Name: eco_type/Value, dtype: int64"
      ]
     },
     "execution_count": 362,
     "metadata": {},
     "output_type": "execute_result"
    }
   ],
   "source": [
    "data.shape\n",
    "data = data.drop_duplicates()\n",
    "data['eco_type/Value'].value_counts()"
   ]
  },
  {
   "cell_type": "code",
   "execution_count": 363,
   "metadata": {
    "pycharm": {
     "is_executing": true,
     "name": "#%%\n"
    },
    "scrolled": true
   },
   "outputs": [
    {
     "data": {
      "text/plain": [
       "<AxesSubplot:>"
      ]
     },
     "execution_count": 363,
     "metadata": {},
     "output_type": "execute_result"
    },
    {
     "data": {
      "image/png": "[encoded data removed]",
      "text/plain": [
       "<Figure size 1800x720 with 2 Axes>"
      ]
     },
     "metadata": {
      "needs_background": "light"
     },
     "output_type": "display_data"
    }
   ],
   "source": [
    "data.isna().sum()\n",
    "\n",
    "msno.matrix(data)"
   ]
  },
  {
   "cell_type": "code",
   "execution_count": 364,
   "metadata": {
    "pycharm": {
     "is_executing": true
    }
   },
   "outputs": [
    {
     "name": "stderr",
     "output_type": "stream",
     "text": [
      "C:\\Users\\STUDEN~1\\AppData\\Local\\Temp/ipykernel_14100/486843965.py:3: SettingWithCopyWarning: \n",
      "A value is trying to be set on a copy of a slice from a DataFrame\n",
      "\n",
      "See the caveats in the documentation: https://pandas.pydata.org/pandas-docs/stable/user_guide/indexing.html#returning-a-view-versus-a-copy\n",
      "  data.dropna(inplace=True)\n"
     ]
    },
    {
     "data": {
      "text/plain": [
       "(140, 12)"
      ]
     },
     "execution_count": 364,
     "metadata": {},
     "output_type": "execute_result"
    }
   ],
   "source": [
    "# Delete Rows with Missing Values\n",
    "\n",
    "data.dropna(inplace=True)\n",
    "data.isna().sum()\n",
    "data.shape"
   ]
  },
  {
   "cell_type": "code",
   "execution_count": 365,
   "metadata": {
    "pycharm": {
     "is_executing": true
    }
   },
   "outputs": [
    {
     "data": {
      "text/html": [
       "<div>\n",
       "<style scoped>\n",
       "    .dataframe tbody tr th:only-of-type {\n",
       "        vertical-align: middle;\n",
       "    }\n",
       "\n",
       "    .dataframe tbody tr th {\n",
       "        vertical-align: top;\n",
       "    }\n",
       "\n",
       "    .dataframe thead th {\n",
       "        text-align: right;\n",
       "    }\n",
       "</style>\n",
       "<table border=\"1\" class=\"dataframe\">\n",
       "  <thead>\n",
       "    <tr style=\"text-align: right;\">\n",
       "      <th></th>\n",
       "      <th>speed</th>\n",
       "      <th>time</th>\n",
       "      <th>axis_x/Name</th>\n",
       "      <th>axis_x/Value</th>\n",
       "      <th>axis_y/Value</th>\n",
       "      <th>axis_y/Name</th>\n",
       "      <th>axis_z/Value</th>\n",
       "      <th>axis_z/Name</th>\n",
       "      <th>latitude</th>\n",
       "      <th>longitude</th>\n",
       "      <th>eco_type/Name</th>\n",
       "      <th>eco_type/Value</th>\n",
       "    </tr>\n",
       "  </thead>\n",
       "  <tbody>\n",
       "    <tr>\n",
       "      <th>0</th>\n",
       "      <td>12</td>\n",
       "      <td>May 29, 2022</td>\n",
       "      <td>Axis X</td>\n",
       "      <td>-513</td>\n",
       "      <td>-323</td>\n",
       "      <td>Axis Y</td>\n",
       "      <td>-1944</td>\n",
       "      <td>Axis Z</td>\n",
       "      <td>511055000</td>\n",
       "      <td>714309866</td>\n",
       "      <td>Green driving type</td>\n",
       "      <td>1.0</td>\n",
       "    </tr>\n",
       "    <tr>\n",
       "      <th>20</th>\n",
       "      <td>17</td>\n",
       "      <td>May 29, 2022</td>\n",
       "      <td>Axis X</td>\n",
       "      <td>-539</td>\n",
       "      <td>-320</td>\n",
       "      <td>Axis Y</td>\n",
       "      <td>-1906</td>\n",
       "      <td>Axis Z</td>\n",
       "      <td>511053383</td>\n",
       "      <td>714307866</td>\n",
       "      <td>Green driving type</td>\n",
       "      <td>1.0</td>\n",
       "    </tr>\n",
       "    <tr>\n",
       "      <th>40</th>\n",
       "      <td>17</td>\n",
       "      <td>May 29, 2022</td>\n",
       "      <td>Axis X</td>\n",
       "      <td>-639</td>\n",
       "      <td>-320</td>\n",
       "      <td>Axis Y</td>\n",
       "      <td>-1906</td>\n",
       "      <td>Axis Z</td>\n",
       "      <td>511053383</td>\n",
       "      <td>714307866</td>\n",
       "      <td>Green driving type</td>\n",
       "      <td>2.0</td>\n",
       "    </tr>\n",
       "    <tr>\n",
       "      <th>41</th>\n",
       "      <td>17</td>\n",
       "      <td>May 29, 2022</td>\n",
       "      <td>Axis X</td>\n",
       "      <td>-719</td>\n",
       "      <td>-320</td>\n",
       "      <td>Axis Y</td>\n",
       "      <td>-1906</td>\n",
       "      <td>Axis Z</td>\n",
       "      <td>511053383</td>\n",
       "      <td>714307866</td>\n",
       "      <td>Green driving type</td>\n",
       "      <td>2.0</td>\n",
       "    </tr>\n",
       "    <tr>\n",
       "      <th>42</th>\n",
       "      <td>17</td>\n",
       "      <td>May 29, 2022</td>\n",
       "      <td>Axis X</td>\n",
       "      <td>-534</td>\n",
       "      <td>-320</td>\n",
       "      <td>Axis Y</td>\n",
       "      <td>-1906</td>\n",
       "      <td>Axis Z</td>\n",
       "      <td>511053383</td>\n",
       "      <td>714307866</td>\n",
       "      <td>Green driving type</td>\n",
       "      <td>2.0</td>\n",
       "    </tr>\n",
       "    <tr>\n",
       "      <th>...</th>\n",
       "      <td>...</td>\n",
       "      <td>...</td>\n",
       "      <td>...</td>\n",
       "      <td>...</td>\n",
       "      <td>...</td>\n",
       "      <td>...</td>\n",
       "      <td>...</td>\n",
       "      <td>...</td>\n",
       "      <td>...</td>\n",
       "      <td>...</td>\n",
       "      <td>...</td>\n",
       "      <td>...</td>\n",
       "    </tr>\n",
       "    <tr>\n",
       "      <th>528</th>\n",
       "      <td>26</td>\n",
       "      <td>May 29, 2022</td>\n",
       "      <td>Axis X</td>\n",
       "      <td>-568</td>\n",
       "      <td>-377</td>\n",
       "      <td>Axis Y</td>\n",
       "      <td>-1878</td>\n",
       "      <td>Axis Z</td>\n",
       "      <td>510883899</td>\n",
       "      <td>714248000</td>\n",
       "      <td>Green driving type</td>\n",
       "      <td>1.0</td>\n",
       "    </tr>\n",
       "    <tr>\n",
       "      <th>531</th>\n",
       "      <td>20</td>\n",
       "      <td>May 29, 2022</td>\n",
       "      <td>Axis X</td>\n",
       "      <td>-460</td>\n",
       "      <td>-183</td>\n",
       "      <td>Axis Y</td>\n",
       "      <td>-1936</td>\n",
       "      <td>Axis Z</td>\n",
       "      <td>510879849</td>\n",
       "      <td>714246216</td>\n",
       "      <td>Green driving type</td>\n",
       "      <td>1.0</td>\n",
       "    </tr>\n",
       "    <tr>\n",
       "      <th>534</th>\n",
       "      <td>22</td>\n",
       "      <td>May 29, 2022</td>\n",
       "      <td>Axis X</td>\n",
       "      <td>-421</td>\n",
       "      <td>-257</td>\n",
       "      <td>Axis Y</td>\n",
       "      <td>-2022</td>\n",
       "      <td>Axis Z</td>\n",
       "      <td>510879350</td>\n",
       "      <td>714245883</td>\n",
       "      <td>Green driving type</td>\n",
       "      <td>1.0</td>\n",
       "    </tr>\n",
       "    <tr>\n",
       "      <th>537</th>\n",
       "      <td>18</td>\n",
       "      <td>May 29, 2022</td>\n",
       "      <td>Axis X</td>\n",
       "      <td>-695</td>\n",
       "      <td>-464</td>\n",
       "      <td>Axis Y</td>\n",
       "      <td>-1851</td>\n",
       "      <td>Axis Z</td>\n",
       "      <td>510878799</td>\n",
       "      <td>714245683</td>\n",
       "      <td>Green driving type</td>\n",
       "      <td>1.0</td>\n",
       "    </tr>\n",
       "    <tr>\n",
       "      <th>541</th>\n",
       "      <td>10</td>\n",
       "      <td>May 29, 2022</td>\n",
       "      <td>Axis X</td>\n",
       "      <td>-631</td>\n",
       "      <td>-370</td>\n",
       "      <td>Axis Y</td>\n",
       "      <td>-1912</td>\n",
       "      <td>Axis Z</td>\n",
       "      <td>510876500</td>\n",
       "      <td>714245050</td>\n",
       "      <td>Green driving type</td>\n",
       "      <td>1.0</td>\n",
       "    </tr>\n",
       "  </tbody>\n",
       "</table>\n",
       "<p>140 rows × 12 columns</p>\n",
       "</div>"
      ],
      "text/plain": [
       "     speed          time axis_x/Name  axis_x/Value  axis_y/Value axis_y/Name  \\\n",
       "0       12  May 29, 2022      Axis X          -513          -323      Axis Y   \n",
       "20      17  May 29, 2022      Axis X          -539          -320      Axis Y   \n",
       "40      17  May 29, 2022      Axis X          -639          -320      Axis Y   \n",
       "41      17  May 29, 2022      Axis X          -719          -320      Axis Y   \n",
       "42      17  May 29, 2022      Axis X          -534          -320      Axis Y   \n",
       "..     ...           ...         ...           ...           ...         ...   \n",
       "528     26  May 29, 2022      Axis X          -568          -377      Axis Y   \n",
       "531     20  May 29, 2022      Axis X          -460          -183      Axis Y   \n",
       "534     22  May 29, 2022      Axis X          -421          -257      Axis Y   \n",
       "537     18  May 29, 2022      Axis X          -695          -464      Axis Y   \n",
       "541     10  May 29, 2022      Axis X          -631          -370      Axis Y   \n",
       "\n",
       "     axis_z/Value axis_z/Name   latitude  longitude       eco_type/Name  \\\n",
       "0           -1944      Axis Z  511055000  714309866  Green driving type   \n",
       "20          -1906      Axis Z  511053383  714307866  Green driving type   \n",
       "40          -1906      Axis Z  511053383  714307866  Green driving type   \n",
       "41          -1906      Axis Z  511053383  714307866  Green driving type   \n",
       "42          -1906      Axis Z  511053383  714307866  Green driving type   \n",
       "..            ...         ...        ...        ...                 ...   \n",
       "528         -1878      Axis Z  510883899  714248000  Green driving type   \n",
       "531         -1936      Axis Z  510879849  714246216  Green driving type   \n",
       "534         -2022      Axis Z  510879350  714245883  Green driving type   \n",
       "537         -1851      Axis Z  510878799  714245683  Green driving type   \n",
       "541         -1912      Axis Z  510876500  714245050  Green driving type   \n",
       "\n",
       "     eco_type/Value  \n",
       "0               1.0  \n",
       "20              1.0  \n",
       "40              2.0  \n",
       "41              2.0  \n",
       "42              2.0  \n",
       "..              ...  \n",
       "528             1.0  \n",
       "531             1.0  \n",
       "534             1.0  \n",
       "537             1.0  \n",
       "541             1.0  \n",
       "\n",
       "[140 rows x 12 columns]"
      ]
     },
     "execution_count": 365,
     "metadata": {},
     "output_type": "execute_result"
    }
   ],
   "source": [
    "data"
   ]
  },
  {
   "cell_type": "code",
   "execution_count": 366,
   "metadata": {
    "pycharm": {
     "is_executing": true
    }
   },
   "outputs": [
    {
     "name": "stderr",
     "output_type": "stream",
     "text": [
      "C:\\Users\\STUDEN~1\\AppData\\Local\\Temp/ipykernel_14100/1603490953.py:1: SettingWithCopyWarning: \n",
      "A value is trying to be set on a copy of a slice from a DataFrame.\n",
      "Try using .loc[row_indexer,col_indexer] = value instead\n",
      "\n",
      "See the caveats in the documentation: https://pandas.pydata.org/pandas-docs/stable/user_guide/indexing.html#returning-a-view-versus-a-copy\n",
      "  data[\"latitude\"] = data[\"latitude\"] / 10000000\n"
     ]
    }
   ],
   "source": [
    "data[\"latitude\"] = data[\"latitude\"] / 10000000"
   ]
  },
  {
   "cell_type": "code",
   "execution_count": 367,
   "metadata": {
    "pycharm": {
     "is_executing": true
    }
   },
   "outputs": [
    {
     "name": "stderr",
     "output_type": "stream",
     "text": [
      "C:\\Users\\STUDEN~1\\AppData\\Local\\Temp/ipykernel_14100/3936340802.py:1: SettingWithCopyWarning: \n",
      "A value is trying to be set on a copy of a slice from a DataFrame.\n",
      "Try using .loc[row_indexer,col_indexer] = value instead\n",
      "\n",
      "See the caveats in the documentation: https://pandas.pydata.org/pandas-docs/stable/user_guide/indexing.html#returning-a-view-versus-a-copy\n",
      "  data[\"longitude\"] = data[\"longitude\"] / 10000000\n"
     ]
    }
   ],
   "source": [
    "data[\"longitude\"] = data[\"longitude\"] / 10000000"
   ]
  },
  {
   "cell_type": "code",
   "execution_count": 368,
   "metadata": {
    "pycharm": {
     "is_executing": true
    },
    "scrolled": true
   },
   "outputs": [
    {
     "data": {
      "text/html": [
       "<div>\n",
       "<style scoped>\n",
       "    .dataframe tbody tr th:only-of-type {\n",
       "        vertical-align: middle;\n",
       "    }\n",
       "\n",
       "    .dataframe tbody tr th {\n",
       "        vertical-align: top;\n",
       "    }\n",
       "\n",
       "    .dataframe thead th {\n",
       "        text-align: right;\n",
       "    }\n",
       "</style>\n",
       "<table border=\"1\" class=\"dataframe\">\n",
       "  <thead>\n",
       "    <tr style=\"text-align: right;\">\n",
       "      <th></th>\n",
       "      <th>speed</th>\n",
       "      <th>time</th>\n",
       "      <th>axis_x/Name</th>\n",
       "      <th>axis_x/Value</th>\n",
       "      <th>axis_y/Value</th>\n",
       "      <th>axis_y/Name</th>\n",
       "      <th>axis_z/Value</th>\n",
       "      <th>axis_z/Name</th>\n",
       "      <th>latitude</th>\n",
       "      <th>longitude</th>\n",
       "      <th>eco_type/Name</th>\n",
       "      <th>eco_type/Value</th>\n",
       "    </tr>\n",
       "  </thead>\n",
       "  <tbody>\n",
       "    <tr>\n",
       "      <th>0</th>\n",
       "      <td>12</td>\n",
       "      <td>May 29, 2022</td>\n",
       "      <td>Axis X</td>\n",
       "      <td>-513</td>\n",
       "      <td>-323</td>\n",
       "      <td>Axis Y</td>\n",
       "      <td>-1944</td>\n",
       "      <td>Axis Z</td>\n",
       "      <td>51.105500</td>\n",
       "      <td>71.430987</td>\n",
       "      <td>Green driving type</td>\n",
       "      <td>1.0</td>\n",
       "    </tr>\n",
       "    <tr>\n",
       "      <th>20</th>\n",
       "      <td>17</td>\n",
       "      <td>May 29, 2022</td>\n",
       "      <td>Axis X</td>\n",
       "      <td>-539</td>\n",
       "      <td>-320</td>\n",
       "      <td>Axis Y</td>\n",
       "      <td>-1906</td>\n",
       "      <td>Axis Z</td>\n",
       "      <td>51.105338</td>\n",
       "      <td>71.430787</td>\n",
       "      <td>Green driving type</td>\n",
       "      <td>1.0</td>\n",
       "    </tr>\n",
       "    <tr>\n",
       "      <th>40</th>\n",
       "      <td>17</td>\n",
       "      <td>May 29, 2022</td>\n",
       "      <td>Axis X</td>\n",
       "      <td>-639</td>\n",
       "      <td>-320</td>\n",
       "      <td>Axis Y</td>\n",
       "      <td>-1906</td>\n",
       "      <td>Axis Z</td>\n",
       "      <td>51.105338</td>\n",
       "      <td>71.430787</td>\n",
       "      <td>Green driving type</td>\n",
       "      <td>2.0</td>\n",
       "    </tr>\n",
       "    <tr>\n",
       "      <th>41</th>\n",
       "      <td>17</td>\n",
       "      <td>May 29, 2022</td>\n",
       "      <td>Axis X</td>\n",
       "      <td>-719</td>\n",
       "      <td>-320</td>\n",
       "      <td>Axis Y</td>\n",
       "      <td>-1906</td>\n",
       "      <td>Axis Z</td>\n",
       "      <td>51.105338</td>\n",
       "      <td>71.430787</td>\n",
       "      <td>Green driving type</td>\n",
       "      <td>2.0</td>\n",
       "    </tr>\n",
       "    <tr>\n",
       "      <th>42</th>\n",
       "      <td>17</td>\n",
       "      <td>May 29, 2022</td>\n",
       "      <td>Axis X</td>\n",
       "      <td>-534</td>\n",
       "      <td>-320</td>\n",
       "      <td>Axis Y</td>\n",
       "      <td>-1906</td>\n",
       "      <td>Axis Z</td>\n",
       "      <td>51.105338</td>\n",
       "      <td>71.430787</td>\n",
       "      <td>Green driving type</td>\n",
       "      <td>2.0</td>\n",
       "    </tr>\n",
       "    <tr>\n",
       "      <th>...</th>\n",
       "      <td>...</td>\n",
       "      <td>...</td>\n",
       "      <td>...</td>\n",
       "      <td>...</td>\n",
       "      <td>...</td>\n",
       "      <td>...</td>\n",
       "      <td>...</td>\n",
       "      <td>...</td>\n",
       "      <td>...</td>\n",
       "      <td>...</td>\n",
       "      <td>...</td>\n",
       "      <td>...</td>\n",
       "    </tr>\n",
       "    <tr>\n",
       "      <th>528</th>\n",
       "      <td>26</td>\n",
       "      <td>May 29, 2022</td>\n",
       "      <td>Axis X</td>\n",
       "      <td>-568</td>\n",
       "      <td>-377</td>\n",
       "      <td>Axis Y</td>\n",
       "      <td>-1878</td>\n",
       "      <td>Axis Z</td>\n",
       "      <td>51.088390</td>\n",
       "      <td>71.424800</td>\n",
       "      <td>Green driving type</td>\n",
       "      <td>1.0</td>\n",
       "    </tr>\n",
       "    <tr>\n",
       "      <th>531</th>\n",
       "      <td>20</td>\n",
       "      <td>May 29, 2022</td>\n",
       "      <td>Axis X</td>\n",
       "      <td>-460</td>\n",
       "      <td>-183</td>\n",
       "      <td>Axis Y</td>\n",
       "      <td>-1936</td>\n",
       "      <td>Axis Z</td>\n",
       "      <td>51.087985</td>\n",
       "      <td>71.424622</td>\n",
       "      <td>Green driving type</td>\n",
       "      <td>1.0</td>\n",
       "    </tr>\n",
       "    <tr>\n",
       "      <th>534</th>\n",
       "      <td>22</td>\n",
       "      <td>May 29, 2022</td>\n",
       "      <td>Axis X</td>\n",
       "      <td>-421</td>\n",
       "      <td>-257</td>\n",
       "      <td>Axis Y</td>\n",
       "      <td>-2022</td>\n",
       "      <td>Axis Z</td>\n",
       "      <td>51.087935</td>\n",
       "      <td>71.424588</td>\n",
       "      <td>Green driving type</td>\n",
       "      <td>1.0</td>\n",
       "    </tr>\n",
       "    <tr>\n",
       "      <th>537</th>\n",
       "      <td>18</td>\n",
       "      <td>May 29, 2022</td>\n",
       "      <td>Axis X</td>\n",
       "      <td>-695</td>\n",
       "      <td>-464</td>\n",
       "      <td>Axis Y</td>\n",
       "      <td>-1851</td>\n",
       "      <td>Axis Z</td>\n",
       "      <td>51.087880</td>\n",
       "      <td>71.424568</td>\n",
       "      <td>Green driving type</td>\n",
       "      <td>1.0</td>\n",
       "    </tr>\n",
       "    <tr>\n",
       "      <th>541</th>\n",
       "      <td>10</td>\n",
       "      <td>May 29, 2022</td>\n",
       "      <td>Axis X</td>\n",
       "      <td>-631</td>\n",
       "      <td>-370</td>\n",
       "      <td>Axis Y</td>\n",
       "      <td>-1912</td>\n",
       "      <td>Axis Z</td>\n",
       "      <td>51.087650</td>\n",
       "      <td>71.424505</td>\n",
       "      <td>Green driving type</td>\n",
       "      <td>1.0</td>\n",
       "    </tr>\n",
       "  </tbody>\n",
       "</table>\n",
       "<p>140 rows × 12 columns</p>\n",
       "</div>"
      ],
      "text/plain": [
       "     speed          time axis_x/Name  axis_x/Value  axis_y/Value axis_y/Name  \\\n",
       "0       12  May 29, 2022      Axis X          -513          -323      Axis Y   \n",
       "20      17  May 29, 2022      Axis X          -539          -320      Axis Y   \n",
       "40      17  May 29, 2022      Axis X          -639          -320      Axis Y   \n",
       "41      17  May 29, 2022      Axis X          -719          -320      Axis Y   \n",
       "42      17  May 29, 2022      Axis X          -534          -320      Axis Y   \n",
       "..     ...           ...         ...           ...           ...         ...   \n",
       "528     26  May 29, 2022      Axis X          -568          -377      Axis Y   \n",
       "531     20  May 29, 2022      Axis X          -460          -183      Axis Y   \n",
       "534     22  May 29, 2022      Axis X          -421          -257      Axis Y   \n",
       "537     18  May 29, 2022      Axis X          -695          -464      Axis Y   \n",
       "541     10  May 29, 2022      Axis X          -631          -370      Axis Y   \n",
       "\n",
       "     axis_z/Value axis_z/Name   latitude  longitude       eco_type/Name  \\\n",
       "0           -1944      Axis Z  51.105500  71.430987  Green driving type   \n",
       "20          -1906      Axis Z  51.105338  71.430787  Green driving type   \n",
       "40          -1906      Axis Z  51.105338  71.430787  Green driving type   \n",
       "41          -1906      Axis Z  51.105338  71.430787  Green driving type   \n",
       "42          -1906      Axis Z  51.105338  71.430787  Green driving type   \n",
       "..            ...         ...        ...        ...                 ...   \n",
       "528         -1878      Axis Z  51.088390  71.424800  Green driving type   \n",
       "531         -1936      Axis Z  51.087985  71.424622  Green driving type   \n",
       "534         -2022      Axis Z  51.087935  71.424588  Green driving type   \n",
       "537         -1851      Axis Z  51.087880  71.424568  Green driving type   \n",
       "541         -1912      Axis Z  51.087650  71.424505  Green driving type   \n",
       "\n",
       "     eco_type/Value  \n",
       "0               1.0  \n",
       "20              1.0  \n",
       "40              2.0  \n",
       "41              2.0  \n",
       "42              2.0  \n",
       "..              ...  \n",
       "528             1.0  \n",
       "531             1.0  \n",
       "534             1.0  \n",
       "537             1.0  \n",
       "541             1.0  \n",
       "\n",
       "[140 rows x 12 columns]"
      ]
     },
     "execution_count": 368,
     "metadata": {},
     "output_type": "execute_result"
    }
   ],
   "source": [
    "data"
   ]
  },
  {
   "cell_type": "code",
   "execution_count": 369,
   "metadata": {
    "pycharm": {
     "is_executing": true
    }
   },
   "outputs": [
    {
     "data": {
      "text/plain": [
       "{1.0: 133, 2.0: 4, 3.0: 3}"
      ]
     },
     "execution_count": 369,
     "metadata": {},
     "output_type": "execute_result"
    }
   ],
   "source": [
    "freq_class_driver = data['eco_type/Value'].value_counts()\n",
    "type(freq_class_driver)\n",
    "class_dict = freq_class_driver.to_dict()\n",
    "class_dict"
   ]
  },
  {
   "cell_type": "code",
   "execution_count": 370,
   "metadata": {
    "pycharm": {
     "is_executing": true
    }
   },
   "outputs": [],
   "source": [
    "# Max Acceleration, Max Braking or Max Cornering"
   ]
  },
  {
   "cell_type": "code",
   "execution_count": 371,
   "metadata": {
    "pycharm": {
     "is_executing": true
    }
   },
   "outputs": [],
   "source": [
    "class_dict['Max acceleration'] = class_dict.pop(1.0)\n",
    "class_dict['Max cornering'] = class_dict.pop(3.0)\n",
    "class_dict['Max braking'] = class_dict.pop(2.0)"
   ]
  },
  {
   "cell_type": "code",
   "execution_count": 372,
   "metadata": {
    "pycharm": {
     "is_executing": true
    }
   },
   "outputs": [
    {
     "data": {
      "image/png": "[encoded data removed]",
      "text/plain": [
       "<Figure size 432x288 with 1 Axes>"
      ]
     },
     "metadata": {
      "needs_background": "light"
     },
     "output_type": "display_data"
    }
   ],
   "source": [
    "classes = list(class_dict.keys())\n",
    "values = list(class_dict.values())\n",
    "color = ['#6BCB77', '#4D96FF', '#FAC213']\n",
    "plt.xlabel(\"Behaviour type\")\n",
    "plt.ylabel(\"Frequincies\")\n",
    "plt.bar(range(len(class_dict)), values, tick_label=classes, color=color)\n",
    "plt.show()"
   ]
  },
  {
   "cell_type": "code",
   "execution_count": 373,
   "metadata": {
    "pycharm": {
     "is_executing": true
    }
   },
   "outputs": [],
   "source": [
    "# Delete unnecessary data in text format"
   ]
  },
  {
   "cell_type": "code",
   "execution_count": 374,
   "metadata": {
    "pycharm": {
     "is_executing": true
    }
   },
   "outputs": [],
   "source": [
    "data_upd = data.drop(columns=['time', 'axis_x/Name', 'axis_y/Name', 'axis_z/Name', 'eco_type/Name'])"
   ]
  },
  {
   "cell_type": "code",
   "execution_count": 375,
   "metadata": {
    "pycharm": {
     "is_executing": true
    }
   },
   "outputs": [
    {
     "data": {
      "text/html": [
       "<div>\n",
       "<style scoped>\n",
       "    .dataframe tbody tr th:only-of-type {\n",
       "        vertical-align: middle;\n",
       "    }\n",
       "\n",
       "    .dataframe tbody tr th {\n",
       "        vertical-align: top;\n",
       "    }\n",
       "\n",
       "    .dataframe thead th {\n",
       "        text-align: right;\n",
       "    }\n",
       "</style>\n",
       "<table border=\"1\" class=\"dataframe\">\n",
       "  <thead>\n",
       "    <tr style=\"text-align: right;\">\n",
       "      <th></th>\n",
       "      <th>speed</th>\n",
       "      <th>axis_x/Value</th>\n",
       "      <th>axis_y/Value</th>\n",
       "      <th>axis_z/Value</th>\n",
       "      <th>latitude</th>\n",
       "      <th>longitude</th>\n",
       "      <th>eco_type/Value</th>\n",
       "    </tr>\n",
       "  </thead>\n",
       "  <tbody>\n",
       "    <tr>\n",
       "      <th>0</th>\n",
       "      <td>12</td>\n",
       "      <td>-513</td>\n",
       "      <td>-323</td>\n",
       "      <td>-1944</td>\n",
       "      <td>51.105500</td>\n",
       "      <td>71.430987</td>\n",
       "      <td>1.0</td>\n",
       "    </tr>\n",
       "    <tr>\n",
       "      <th>20</th>\n",
       "      <td>17</td>\n",
       "      <td>-539</td>\n",
       "      <td>-320</td>\n",
       "      <td>-1906</td>\n",
       "      <td>51.105338</td>\n",
       "      <td>71.430787</td>\n",
       "      <td>1.0</td>\n",
       "    </tr>\n",
       "    <tr>\n",
       "      <th>40</th>\n",
       "      <td>17</td>\n",
       "      <td>-639</td>\n",
       "      <td>-320</td>\n",
       "      <td>-1906</td>\n",
       "      <td>51.105338</td>\n",
       "      <td>71.430787</td>\n",
       "      <td>2.0</td>\n",
       "    </tr>\n",
       "    <tr>\n",
       "      <th>41</th>\n",
       "      <td>17</td>\n",
       "      <td>-719</td>\n",
       "      <td>-320</td>\n",
       "      <td>-1906</td>\n",
       "      <td>51.105338</td>\n",
       "      <td>71.430787</td>\n",
       "      <td>2.0</td>\n",
       "    </tr>\n",
       "    <tr>\n",
       "      <th>42</th>\n",
       "      <td>17</td>\n",
       "      <td>-534</td>\n",
       "      <td>-320</td>\n",
       "      <td>-1906</td>\n",
       "      <td>51.105338</td>\n",
       "      <td>71.430787</td>\n",
       "      <td>2.0</td>\n",
       "    </tr>\n",
       "    <tr>\n",
       "      <th>...</th>\n",
       "      <td>...</td>\n",
       "      <td>...</td>\n",
       "      <td>...</td>\n",
       "      <td>...</td>\n",
       "      <td>...</td>\n",
       "      <td>...</td>\n",
       "      <td>...</td>\n",
       "    </tr>\n",
       "    <tr>\n",
       "      <th>528</th>\n",
       "      <td>26</td>\n",
       "      <td>-568</td>\n",
       "      <td>-377</td>\n",
       "      <td>-1878</td>\n",
       "      <td>51.088390</td>\n",
       "      <td>71.424800</td>\n",
       "      <td>1.0</td>\n",
       "    </tr>\n",
       "    <tr>\n",
       "      <th>531</th>\n",
       "      <td>20</td>\n",
       "      <td>-460</td>\n",
       "      <td>-183</td>\n",
       "      <td>-1936</td>\n",
       "      <td>51.087985</td>\n",
       "      <td>71.424622</td>\n",
       "      <td>1.0</td>\n",
       "    </tr>\n",
       "    <tr>\n",
       "      <th>534</th>\n",
       "      <td>22</td>\n",
       "      <td>-421</td>\n",
       "      <td>-257</td>\n",
       "      <td>-2022</td>\n",
       "      <td>51.087935</td>\n",
       "      <td>71.424588</td>\n",
       "      <td>1.0</td>\n",
       "    </tr>\n",
       "    <tr>\n",
       "      <th>537</th>\n",
       "      <td>18</td>\n",
       "      <td>-695</td>\n",
       "      <td>-464</td>\n",
       "      <td>-1851</td>\n",
       "      <td>51.087880</td>\n",
       "      <td>71.424568</td>\n",
       "      <td>1.0</td>\n",
       "    </tr>\n",
       "    <tr>\n",
       "      <th>541</th>\n",
       "      <td>10</td>\n",
       "      <td>-631</td>\n",
       "      <td>-370</td>\n",
       "      <td>-1912</td>\n",
       "      <td>51.087650</td>\n",
       "      <td>71.424505</td>\n",
       "      <td>1.0</td>\n",
       "    </tr>\n",
       "  </tbody>\n",
       "</table>\n",
       "<p>140 rows × 7 columns</p>\n",
       "</div>"
      ],
      "text/plain": [
       "     speed  axis_x/Value  axis_y/Value  axis_z/Value   latitude  longitude  \\\n",
       "0       12          -513          -323         -1944  51.105500  71.430987   \n",
       "20      17          -539          -320         -1906  51.105338  71.430787   \n",
       "40      17          -639          -320         -1906  51.105338  71.430787   \n",
       "41      17          -719          -320         -1906  51.105338  71.430787   \n",
       "42      17          -534          -320         -1906  51.105338  71.430787   \n",
       "..     ...           ...           ...           ...        ...        ...   \n",
       "528     26          -568          -377         -1878  51.088390  71.424800   \n",
       "531     20          -460          -183         -1936  51.087985  71.424622   \n",
       "534     22          -421          -257         -2022  51.087935  71.424588   \n",
       "537     18          -695          -464         -1851  51.087880  71.424568   \n",
       "541     10          -631          -370         -1912  51.087650  71.424505   \n",
       "\n",
       "     eco_type/Value  \n",
       "0               1.0  \n",
       "20              1.0  \n",
       "40              2.0  \n",
       "41              2.0  \n",
       "42              2.0  \n",
       "..              ...  \n",
       "528             1.0  \n",
       "531             1.0  \n",
       "534             1.0  \n",
       "537             1.0  \n",
       "541             1.0  \n",
       "\n",
       "[140 rows x 7 columns]"
      ]
     },
     "execution_count": 375,
     "metadata": {},
     "output_type": "execute_result"
    }
   ],
   "source": [
    "data_upd"
   ]
  },
  {
   "cell_type": "markdown",
   "metadata": {},
   "source": [
    "# Defining outliers on values "
   ]
  },
  {
   "cell_type": "code",
   "execution_count": 376,
   "metadata": {
    "pycharm": {
     "is_executing": true
    }
   },
   "outputs": [
    {
     "data": {
      "text/plain": [
       "<Figure size 720x504 with 0 Axes>"
      ]
     },
     "metadata": {},
     "output_type": "display_data"
    }
   ],
   "source": [
    "fig = plt.figure(figsize =(10, 7))"
   ]
  },
  {
   "cell_type": "code",
   "execution_count": 377,
   "metadata": {
    "pycharm": {
     "is_executing": true
    }
   },
   "outputs": [
    {
     "data": {
      "image/png": "[encoded data removed]",
      "text/plain": [
       "<Figure size 432x288 with 1 Axes>"
      ]
     },
     "metadata": {
      "needs_background": "light"
     },
     "output_type": "display_data"
    },
    {
     "data": {
      "image/png": "[encoded data removed]",
      "text/plain": [
       "<Figure size 432x288 with 1 Axes>"
      ]
     },
     "metadata": {
      "needs_background": "light"
     },
     "output_type": "display_data"
    },
    {
     "data": {
      "image/png": "[encoded data removed]",
      "text/plain": [
       "<Figure size 432x288 with 1 Axes>"
      ]
     },
     "metadata": {
      "needs_background": "light"
     },
     "output_type": "display_data"
    },
    {
     "data": {
      "image/png": "[encoded data removed]",
      "text/plain": [
       "<Figure size 432x288 with 1 Axes>"
      ]
     },
     "metadata": {
      "needs_background": "light"
     },
     "output_type": "display_data"
    }
   ],
   "source": [
    "def plot_boxplot(data, ft):\n",
    "    data.boxplot(column=[ft])\n",
    "    plt.grid(False)\n",
    "    plt.show()\n",
    "\n",
    "plot_boxplot(data_upd, \"speed\")\n",
    "plot_boxplot(data_upd, \"axis_x/Value\")\n",
    "plot_boxplot(data_upd, \"axis_y/Value\")\n",
    "plot_boxplot(data_upd, \"axis_z/Value\")"
   ]
  },
  {
   "cell_type": "code",
   "execution_count": 378,
   "metadata": {
    "pycharm": {
     "is_executing": true
    }
   },
   "outputs": [],
   "source": [
    "# Remove outliers\n",
    "# IQR method\n",
    "# IQR = Q3 - Q1\n",
    "# +/- 1.5 * IQR\n",
    "\n",
    "def outliers(data, ft):\n",
    "    Q1 = data[ft].quantile(0.25)\n",
    "    Q3 = data[ft].quantile(0.75)\n",
    "    IQR = Q3 - Q1\n",
    "\n",
    "    lower_bound = Q1 - 1.5 * IQR\n",
    "    upper_bound = Q3 + 1.5 * IQR\n",
    "\n",
    "# indexes of outliers\n",
    "    ls = data.index[ (data[ft] < lower_bound) | (data[ft] > upper_bound)]\n",
    "    return ls"
   ]
  },
  {
   "cell_type": "code",
   "execution_count": 379,
   "metadata": {
    "pycharm": {
     "is_executing": true
    }
   },
   "outputs": [
    {
     "name": "stdout",
     "output_type": "stream",
     "text": [
      "Indexes of outliers:  [461, 462, 463, 464, 304, 311, 475, 459, 472, 473, 269, 461, 469, 470, 471, 484, 490]\n",
      "17\n"
     ]
    }
   ],
   "source": [
    "index_list = []\n",
    "for feature in ['speed', 'axis_x/Value', 'axis_y/Value', 'axis_z/Value']:\n",
    "    index_list.extend(outliers(data_upd, feature))\n",
    "print(\"Indexes of outliers: \", index_list)\n",
    "print(len(index_list))"
   ]
  },
  {
   "cell_type": "code",
   "execution_count": 380,
   "metadata": {
    "pycharm": {
     "is_executing": true
    }
   },
   "outputs": [],
   "source": [
    "# define a function called \"remove\" which returns a cleaned dataframe without outliers\n",
    "\n",
    "def remove(data, ls):\n",
    "    ls = sorted(set(ls))\n",
    "    data = data.drop(ls)\n",
    "    return data"
   ]
  },
  {
   "cell_type": "code",
   "execution_count": 381,
   "metadata": {
    "pycharm": {
     "is_executing": true
    }
   },
   "outputs": [
    {
     "name": "stdout",
     "output_type": "stream",
     "text": [
      "Before removing outliers:  (140, 12)\n",
      "After removing outliers:  (124, 7)\n"
     ]
    }
   ],
   "source": [
    "data_cleaned = remove(data_upd, index_list)\n",
    "print(\"Before removing outliers: \", data.shape)\n",
    "print(\"After removing outliers: \", data_cleaned.shape)"
   ]
  },
  {
   "cell_type": "code",
   "execution_count": 382,
   "metadata": {
    "pycharm": {
     "is_executing": true
    }
   },
   "outputs": [
    {
     "data": {
      "image/png": "[encoded data removed]",
      "text/plain": [
       "<Figure size 432x288 with 1 Axes>"
      ]
     },
     "metadata": {
      "needs_background": "light"
     },
     "output_type": "display_data"
    },
    {
     "data": {
      "image/png": "[encoded data removed]",
      "text/plain": [
       "<Figure size 432x288 with 1 Axes>"
      ]
     },
     "metadata": {
      "needs_background": "light"
     },
     "output_type": "display_data"
    },
    {
     "data": {
      "image/png": "[encoded data removed]",
      "text/plain": [
       "<Figure size 432x288 with 1 Axes>"
      ]
     },
     "metadata": {
      "needs_background": "light"
     },
     "output_type": "display_data"
    },
    {
     "data": {
      "image/png": "[encoded data removed]",
      "text/plain": [
       "<Figure size 432x288 with 1 Axes>"
      ]
     },
     "metadata": {
      "needs_background": "light"
     },
     "output_type": "display_data"
    }
   ],
   "source": [
    "plot_boxplot(data_cleaned, \"speed\")\n",
    "plot_boxplot(data_cleaned, \"axis_x/Value\")\n",
    "plot_boxplot(data_cleaned, \"axis_y/Value\")\n",
    "plot_boxplot(data_cleaned, \"axis_z/Value\")"
   ]
  },
  {
   "cell_type": "code",
   "execution_count": 383,
   "metadata": {
    "pycharm": {
     "is_executing": true
    }
   },
   "outputs": [
    {
     "name": "stdout",
     "output_type": "stream",
     "text": [
      "Indexes of outliers:  [460, 466, 274, 284, 317, 361, 525, 299, 487]\n"
     ]
    }
   ],
   "source": [
    "index_list_2 = []\n",
    "for feature in ['speed', 'axis_x/Value', 'axis_y/Value', 'axis_z/Value']:\n",
    "    index_list_2.extend(outliers(data_cleaned, feature))\n",
    "print(\"Indexes of outliers: \", index_list_2)"
   ]
  },
  {
   "cell_type": "code",
   "execution_count": 384,
   "metadata": {
    "pycharm": {
     "is_executing": true
    }
   },
   "outputs": [
    {
     "name": "stdout",
     "output_type": "stream",
     "text": [
      "Before second stage removing outliers:  (124, 7)\n",
      "After removing all outliers:  (115, 7)\n"
     ]
    }
   ],
   "source": [
    "data_cleaned_upd = remove(data_cleaned, index_list_2)\n",
    "print(\"Before second stage removing outliers: \", data_cleaned.shape)\n",
    "print(\"After removing all outliers: \", data_cleaned_upd.shape)"
   ]
  },
  {
   "cell_type": "code",
   "execution_count": 385,
   "metadata": {
    "pycharm": {
     "is_executing": true
    }
   },
   "outputs": [
    {
     "data": {
      "image/png": "[encoded data removed]",
      "text/plain": [
       "<Figure size 432x288 with 1 Axes>"
      ]
     },
     "metadata": {
      "needs_background": "light"
     },
     "output_type": "display_data"
    },
    {
     "data": {
      "image/png": "[encoded data removed]",
      "text/plain": [
       "<Figure size 432x288 with 1 Axes>"
      ]
     },
     "metadata": {
      "needs_background": "light"
     },
     "output_type": "display_data"
    },
    {
     "data": {
      "image/png": "[encoded data removed]",
      "text/plain": [
       "<Figure size 432x288 with 1 Axes>"
      ]
     },
     "metadata": {
      "needs_background": "light"
     },
     "output_type": "display_data"
    },
    {
     "data": {
      "image/png": "[encoded data removed]",
      "text/plain": [
       "<Figure size 432x288 with 1 Axes>"
      ]
     },
     "metadata": {
      "needs_background": "light"
     },
     "output_type": "display_data"
    }
   ],
   "source": [
    "plot_boxplot(data_cleaned_upd, \"speed\")\n",
    "plot_boxplot(data_cleaned_upd, \"axis_x/Value\")\n",
    "plot_boxplot(data_cleaned_upd, \"axis_y/Value\")\n",
    "plot_boxplot(data_cleaned_upd, \"axis_z/Value\")"
   ]
  },
  {
   "cell_type": "markdown",
   "metadata": {},
   "source": [
    "# Balancing unbalanced data"
   ]
  },
  {
   "cell_type": "code",
   "execution_count": 386,
   "metadata": {
    "pycharm": {
     "is_executing": true
    }
   },
   "outputs": [
    {
     "name": "stdout",
     "output_type": "stream",
     "text": [
      "     speed  axis_x/Value  axis_y/Value  axis_z/Value   latitude  longitude\n",
      "0       12          -513          -323         -1944  51.105500  71.430987\n",
      "20      17          -539          -320         -1906  51.105338  71.430787\n",
      "40      17          -639          -320         -1906  51.105338  71.430787\n",
      "41      17          -719          -320         -1906  51.105338  71.430787\n",
      "42      17          -534          -320         -1906  51.105338  71.430787\n",
      "..     ...           ...           ...           ...        ...        ...\n",
      "528     26          -568          -377         -1878  51.088390  71.424800\n",
      "531     20          -460          -183         -1936  51.087985  71.424622\n",
      "534     22          -421          -257         -2022  51.087935  71.424588\n",
      "537     18          -695          -464         -1851  51.087880  71.424568\n",
      "541     10          -631          -370         -1912  51.087650  71.424505\n",
      "\n",
      "[140 rows x 6 columns]\n",
      "0      1.0\n",
      "20     1.0\n",
      "40     2.0\n",
      "41     2.0\n",
      "42     2.0\n",
      "      ... \n",
      "528    1.0\n",
      "531    1.0\n",
      "534    1.0\n",
      "537    1.0\n",
      "541    1.0\n",
      "Name: eco_type/Value, Length: 140, dtype: float64\n"
     ]
    }
   ],
   "source": [
    "X = data_upd.drop(['eco_type/Value'], axis=1)\n",
    "y = data_upd['eco_type/Value']\n",
    "print(X)\n",
    "print(y)"
   ]
  },
  {
   "cell_type": "code",
   "execution_count": 387,
   "metadata": {
    "pycharm": {
     "is_executing": true
    }
   },
   "outputs": [
    {
     "data": {
      "text/html": [
       "<div>\n",
       "<style scoped>\n",
       "    .dataframe tbody tr th:only-of-type {\n",
       "        vertical-align: middle;\n",
       "    }\n",
       "\n",
       "    .dataframe tbody tr th {\n",
       "        vertical-align: top;\n",
       "    }\n",
       "\n",
       "    .dataframe thead th {\n",
       "        text-align: right;\n",
       "    }\n",
       "</style>\n",
       "<table border=\"1\" class=\"dataframe\">\n",
       "  <thead>\n",
       "    <tr style=\"text-align: right;\">\n",
       "      <th></th>\n",
       "      <th>speed</th>\n",
       "      <th>axis_x/Value</th>\n",
       "      <th>axis_y/Value</th>\n",
       "      <th>axis_z/Value</th>\n",
       "      <th>latitude</th>\n",
       "      <th>longitude</th>\n",
       "    </tr>\n",
       "  </thead>\n",
       "  <tbody>\n",
       "    <tr>\n",
       "      <th>0</th>\n",
       "      <td>12</td>\n",
       "      <td>-513</td>\n",
       "      <td>-323</td>\n",
       "      <td>-1944</td>\n",
       "      <td>51.105500</td>\n",
       "      <td>71.430987</td>\n",
       "    </tr>\n",
       "    <tr>\n",
       "      <th>20</th>\n",
       "      <td>17</td>\n",
       "      <td>-539</td>\n",
       "      <td>-320</td>\n",
       "      <td>-1906</td>\n",
       "      <td>51.105338</td>\n",
       "      <td>71.430787</td>\n",
       "    </tr>\n",
       "    <tr>\n",
       "      <th>40</th>\n",
       "      <td>17</td>\n",
       "      <td>-639</td>\n",
       "      <td>-320</td>\n",
       "      <td>-1906</td>\n",
       "      <td>51.105338</td>\n",
       "      <td>71.430787</td>\n",
       "    </tr>\n",
       "    <tr>\n",
       "      <th>41</th>\n",
       "      <td>17</td>\n",
       "      <td>-719</td>\n",
       "      <td>-320</td>\n",
       "      <td>-1906</td>\n",
       "      <td>51.105338</td>\n",
       "      <td>71.430787</td>\n",
       "    </tr>\n",
       "    <tr>\n",
       "      <th>42</th>\n",
       "      <td>17</td>\n",
       "      <td>-534</td>\n",
       "      <td>-320</td>\n",
       "      <td>-1906</td>\n",
       "      <td>51.105338</td>\n",
       "      <td>71.430787</td>\n",
       "    </tr>\n",
       "    <tr>\n",
       "      <th>...</th>\n",
       "      <td>...</td>\n",
       "      <td>...</td>\n",
       "      <td>...</td>\n",
       "      <td>...</td>\n",
       "      <td>...</td>\n",
       "      <td>...</td>\n",
       "    </tr>\n",
       "    <tr>\n",
       "      <th>528</th>\n",
       "      <td>26</td>\n",
       "      <td>-568</td>\n",
       "      <td>-377</td>\n",
       "      <td>-1878</td>\n",
       "      <td>51.088390</td>\n",
       "      <td>71.424800</td>\n",
       "    </tr>\n",
       "    <tr>\n",
       "      <th>531</th>\n",
       "      <td>20</td>\n",
       "      <td>-460</td>\n",
       "      <td>-183</td>\n",
       "      <td>-1936</td>\n",
       "      <td>51.087985</td>\n",
       "      <td>71.424622</td>\n",
       "    </tr>\n",
       "    <tr>\n",
       "      <th>534</th>\n",
       "      <td>22</td>\n",
       "      <td>-421</td>\n",
       "      <td>-257</td>\n",
       "      <td>-2022</td>\n",
       "      <td>51.087935</td>\n",
       "      <td>71.424588</td>\n",
       "    </tr>\n",
       "    <tr>\n",
       "      <th>537</th>\n",
       "      <td>18</td>\n",
       "      <td>-695</td>\n",
       "      <td>-464</td>\n",
       "      <td>-1851</td>\n",
       "      <td>51.087880</td>\n",
       "      <td>71.424568</td>\n",
       "    </tr>\n",
       "    <tr>\n",
       "      <th>541</th>\n",
       "      <td>10</td>\n",
       "      <td>-631</td>\n",
       "      <td>-370</td>\n",
       "      <td>-1912</td>\n",
       "      <td>51.087650</td>\n",
       "      <td>71.424505</td>\n",
       "    </tr>\n",
       "  </tbody>\n",
       "</table>\n",
       "<p>140 rows × 6 columns</p>\n",
       "</div>"
      ],
      "text/plain": [
       "     speed  axis_x/Value  axis_y/Value  axis_z/Value   latitude  longitude\n",
       "0       12          -513          -323         -1944  51.105500  71.430987\n",
       "20      17          -539          -320         -1906  51.105338  71.430787\n",
       "40      17          -639          -320         -1906  51.105338  71.430787\n",
       "41      17          -719          -320         -1906  51.105338  71.430787\n",
       "42      17          -534          -320         -1906  51.105338  71.430787\n",
       "..     ...           ...           ...           ...        ...        ...\n",
       "528     26          -568          -377         -1878  51.088390  71.424800\n",
       "531     20          -460          -183         -1936  51.087985  71.424622\n",
       "534     22          -421          -257         -2022  51.087935  71.424588\n",
       "537     18          -695          -464         -1851  51.087880  71.424568\n",
       "541     10          -631          -370         -1912  51.087650  71.424505\n",
       "\n",
       "[140 rows x 6 columns]"
      ]
     },
     "execution_count": 387,
     "metadata": {},
     "output_type": "execute_result"
    }
   ],
   "source": [
    "X"
   ]
  },
  {
   "cell_type": "code",
   "execution_count": 388,
   "metadata": {
    "pycharm": {
     "is_executing": true
    }
   },
   "outputs": [
    {
     "data": {
      "text/plain": [
       "((93, 6), (47, 6))"
      ]
     },
     "execution_count": 388,
     "metadata": {},
     "output_type": "execute_result"
    }
   ],
   "source": [
    "# Random Forest Classifier for checking\n",
    "X_train, X_test, y_train, y_test = train_test_split(X, y, test_size = 0.33, random_state = 42)\n",
    "X_train.shape, X_test.shape"
   ]
  },
  {
   "cell_type": "code",
   "execution_count": 389,
   "metadata": {
    "pycharm": {
     "is_executing": true
    }
   },
   "outputs": [],
   "source": [
    "batch_size = 128\n",
    "num_epochs = 10\n",
    "rfc = RandomForestClassifier(random_state=0)\n",
    "rfc.fit(X_train, y_train)\n",
    "y_pred = rfc.predict(X_test)"
   ]
  },
  {
   "cell_type": "code",
   "execution_count": 390,
   "metadata": {
    "pycharm": {
     "is_executing": true
    }
   },
   "outputs": [
    {
     "name": "stdout",
     "output_type": "stream",
     "text": [
      "Model accuracy score with 10 decision-trees : 0.9362\n"
     ]
    }
   ],
   "source": [
    "print('Model accuracy score with 10 decision-trees : {0:0.4f}'. format(accuracy_score(y_test, y_pred)))"
   ]
  },
  {
   "cell_type": "markdown",
   "metadata": {},
   "source": [
    "rfc_2 = RandomForestClassifier(n_estimators=100, random_state=0)\n",
    "rfc_2.fit(X_train, y_train)\n",
    "y_pred_2 = rfc_2.predict(X_test)\n",
    "print('Model accuracy score with 100 decision-trees : {0:0.4f}'. format(accuracy_score(y_test, y_pred)))"
   ]
  },
  {
   "cell_type": "code",
   "execution_count": 391,
   "metadata": {
    "pycharm": {
     "is_executing": true
    }
   },
   "outputs": [],
   "source": [
    "# Handling imbalanced data with over-sampling\n",
    "\n",
    "class_3, class_2, class_1 = data_upd['eco_type/Value'].value_counts()\n",
    "c3 = data_upd[data_upd['eco_type/Value'] == 1.0]\n",
    "c2 = data_upd[data_upd['eco_type/Value'] == 3.0]\n",
    "c1 = data_upd[data_upd['eco_type/Value'] == 2.0]\n",
    "df_3 = c3.sample(class_1)\n",
    "df_2 = c2.sample(class_1)\n",
    "\n",
    "df_1 = c1.sample(class_3, replace=True)\n",
    "df_2_over = c2.sample(class_3, replace=True)"
   ]
  },
  {
   "cell_type": "code",
   "execution_count": 392,
   "metadata": {
    "pycharm": {
     "is_executing": true
    }
   },
   "outputs": [],
   "source": [
    "oversampled_df = pd.concat([c3,df_1,df_2_over], axis=0)"
   ]
  },
  {
   "cell_type": "code",
   "execution_count": 393,
   "metadata": {
    "pycharm": {
     "is_executing": true
    }
   },
   "outputs": [
    {
     "data": {
      "text/plain": [
       "2.0    133\n",
       "3.0    133\n",
       "1.0    133\n",
       "Name: eco_type/Value, dtype: int64"
      ]
     },
     "execution_count": 393,
     "metadata": {},
     "output_type": "execute_result"
    }
   ],
   "source": [
    "oversampled_df['eco_type/Value'].value_counts()"
   ]
  },
  {
   "cell_type": "code",
   "execution_count": 394,
   "metadata": {
    "pycharm": {
     "is_executing": true
    }
   },
   "outputs": [
    {
     "data": {
      "text/plain": [
       "(399, 7)"
      ]
     },
     "execution_count": 394,
     "metadata": {},
     "output_type": "execute_result"
    }
   ],
   "source": [
    "oversampled_df.shape"
   ]
  },
  {
   "cell_type": "code",
   "execution_count": 395,
   "metadata": {
    "pycharm": {
     "is_executing": true
    }
   },
   "outputs": [
    {
     "name": "stderr",
     "output_type": "stream",
     "text": [
      "C:\\Users\\Student01\\AppData\\Local\\Packages\\PythonSoftwareFoundation.Python.3.9_qbz5n2kfra8p0\\LocalCache\\local-packages\\Python39\\site-packages\\seaborn\\_decorators.py:36: FutureWarning: Pass the following variable as a keyword arg: x. From version 0.12, the only valid positional argument will be `data`, and passing other arguments without an explicit keyword will result in an error or misinterpretation.\n",
      "  warnings.warn(\n"
     ]
    },
    {
     "data": {
      "text/plain": [
       "<AxesSubplot:xlabel='eco_type/Value', ylabel='count'>"
      ]
     },
     "execution_count": 395,
     "metadata": {},
     "output_type": "execute_result"
    },
    {
     "data": {
      "image/png": "[encoded data removed]",
      "text/plain": [
       "<Figure size 432x288 with 1 Axes>"
      ]
     },
     "metadata": {
      "needs_background": "light"
     },
     "output_type": "display_data"
    }
   ],
   "source": [
    "color = ['#6BCB77', '#4D96FF', '#FAC213']\n",
    "\n",
    "sns.countplot('eco_type/Value', data=oversampled_df, palette=color)"
   ]
  },
  {
   "cell_type": "code",
   "execution_count": 396,
   "metadata": {
    "pycharm": {
     "is_executing": true
    }
   },
   "outputs": [
    {
     "data": {
      "text/html": [
       "<div>\n",
       "<style scoped>\n",
       "    .dataframe tbody tr th:only-of-type {\n",
       "        vertical-align: middle;\n",
       "    }\n",
       "\n",
       "    .dataframe tbody tr th {\n",
       "        vertical-align: top;\n",
       "    }\n",
       "\n",
       "    .dataframe thead th {\n",
       "        text-align: right;\n",
       "    }\n",
       "</style>\n",
       "<table border=\"1\" class=\"dataframe\">\n",
       "  <thead>\n",
       "    <tr style=\"text-align: right;\">\n",
       "      <th></th>\n",
       "      <th>speed</th>\n",
       "      <th>axis_x/Value</th>\n",
       "      <th>axis_y/Value</th>\n",
       "      <th>axis_z/Value</th>\n",
       "      <th>latitude</th>\n",
       "      <th>longitude</th>\n",
       "      <th>eco_type/Value</th>\n",
       "    </tr>\n",
       "  </thead>\n",
       "  <tbody>\n",
       "    <tr>\n",
       "      <th>0</th>\n",
       "      <td>12</td>\n",
       "      <td>-513</td>\n",
       "      <td>-323</td>\n",
       "      <td>-1944</td>\n",
       "      <td>51.105500</td>\n",
       "      <td>71.430987</td>\n",
       "      <td>1.0</td>\n",
       "    </tr>\n",
       "    <tr>\n",
       "      <th>20</th>\n",
       "      <td>17</td>\n",
       "      <td>-539</td>\n",
       "      <td>-320</td>\n",
       "      <td>-1906</td>\n",
       "      <td>51.105338</td>\n",
       "      <td>71.430787</td>\n",
       "      <td>1.0</td>\n",
       "    </tr>\n",
       "    <tr>\n",
       "      <th>44</th>\n",
       "      <td>21</td>\n",
       "      <td>-489</td>\n",
       "      <td>-373</td>\n",
       "      <td>-1953</td>\n",
       "      <td>51.105240</td>\n",
       "      <td>71.430672</td>\n",
       "      <td>1.0</td>\n",
       "    </tr>\n",
       "    <tr>\n",
       "      <th>64</th>\n",
       "      <td>13</td>\n",
       "      <td>-664</td>\n",
       "      <td>-397</td>\n",
       "      <td>-1885</td>\n",
       "      <td>51.105058</td>\n",
       "      <td>71.430555</td>\n",
       "      <td>1.0</td>\n",
       "    </tr>\n",
       "    <tr>\n",
       "      <th>84</th>\n",
       "      <td>17</td>\n",
       "      <td>-478</td>\n",
       "      <td>-562</td>\n",
       "      <td>-1999</td>\n",
       "      <td>51.104758</td>\n",
       "      <td>71.430820</td>\n",
       "      <td>1.0</td>\n",
       "    </tr>\n",
       "    <tr>\n",
       "      <th>...</th>\n",
       "      <td>...</td>\n",
       "      <td>...</td>\n",
       "      <td>...</td>\n",
       "      <td>...</td>\n",
       "      <td>...</td>\n",
       "      <td>...</td>\n",
       "      <td>...</td>\n",
       "    </tr>\n",
       "    <tr>\n",
       "      <th>470</th>\n",
       "      <td>66</td>\n",
       "      <td>-543</td>\n",
       "      <td>-531</td>\n",
       "      <td>-2310</td>\n",
       "      <td>51.091732</td>\n",
       "      <td>71.425725</td>\n",
       "      <td>3.0</td>\n",
       "    </tr>\n",
       "    <tr>\n",
       "      <th>500</th>\n",
       "      <td>38</td>\n",
       "      <td>-586</td>\n",
       "      <td>-340</td>\n",
       "      <td>-1989</td>\n",
       "      <td>51.090203</td>\n",
       "      <td>71.425187</td>\n",
       "      <td>3.0</td>\n",
       "    </tr>\n",
       "    <tr>\n",
       "      <th>473</th>\n",
       "      <td>30</td>\n",
       "      <td>-940</td>\n",
       "      <td>-771</td>\n",
       "      <td>-1848</td>\n",
       "      <td>51.091193</td>\n",
       "      <td>71.425507</td>\n",
       "      <td>3.0</td>\n",
       "    </tr>\n",
       "    <tr>\n",
       "      <th>473</th>\n",
       "      <td>30</td>\n",
       "      <td>-940</td>\n",
       "      <td>-771</td>\n",
       "      <td>-1848</td>\n",
       "      <td>51.091193</td>\n",
       "      <td>71.425507</td>\n",
       "      <td>3.0</td>\n",
       "    </tr>\n",
       "    <tr>\n",
       "      <th>470</th>\n",
       "      <td>66</td>\n",
       "      <td>-543</td>\n",
       "      <td>-531</td>\n",
       "      <td>-2310</td>\n",
       "      <td>51.091732</td>\n",
       "      <td>71.425725</td>\n",
       "      <td>3.0</td>\n",
       "    </tr>\n",
       "  </tbody>\n",
       "</table>\n",
       "<p>399 rows × 7 columns</p>\n",
       "</div>"
      ],
      "text/plain": [
       "     speed  axis_x/Value  axis_y/Value  axis_z/Value   latitude  longitude  \\\n",
       "0       12          -513          -323         -1944  51.105500  71.430987   \n",
       "20      17          -539          -320         -1906  51.105338  71.430787   \n",
       "44      21          -489          -373         -1953  51.105240  71.430672   \n",
       "64      13          -664          -397         -1885  51.105058  71.430555   \n",
       "84      17          -478          -562         -1999  51.104758  71.430820   \n",
       "..     ...           ...           ...           ...        ...        ...   \n",
       "470     66          -543          -531         -2310  51.091732  71.425725   \n",
       "500     38          -586          -340         -1989  51.090203  71.425187   \n",
       "473     30          -940          -771         -1848  51.091193  71.425507   \n",
       "473     30          -940          -771         -1848  51.091193  71.425507   \n",
       "470     66          -543          -531         -2310  51.091732  71.425725   \n",
       "\n",
       "     eco_type/Value  \n",
       "0               1.0  \n",
       "20              1.0  \n",
       "44              1.0  \n",
       "64              1.0  \n",
       "84              1.0  \n",
       "..              ...  \n",
       "470             3.0  \n",
       "500             3.0  \n",
       "473             3.0  \n",
       "473             3.0  \n",
       "470             3.0  \n",
       "\n",
       "[399 rows x 7 columns]"
      ]
     },
     "execution_count": 396,
     "metadata": {},
     "output_type": "execute_result"
    }
   ],
   "source": [
    "oversampled_df"
   ]
  },
  {
   "cell_type": "code",
   "execution_count": 397,
   "metadata": {
    "pycharm": {
     "is_executing": true
    }
   },
   "outputs": [
    {
     "data": {
      "text/html": [
       "<div>\n",
       "<style scoped>\n",
       "    .dataframe tbody tr th:only-of-type {\n",
       "        vertical-align: middle;\n",
       "    }\n",
       "\n",
       "    .dataframe tbody tr th {\n",
       "        vertical-align: top;\n",
       "    }\n",
       "\n",
       "    .dataframe thead th {\n",
       "        text-align: right;\n",
       "    }\n",
       "</style>\n",
       "<table border=\"1\" class=\"dataframe\">\n",
       "  <thead>\n",
       "    <tr style=\"text-align: right;\">\n",
       "      <th></th>\n",
       "      <th>speed</th>\n",
       "      <th>axis_x/Value</th>\n",
       "      <th>axis_y/Value</th>\n",
       "      <th>axis_z/Value</th>\n",
       "      <th>latitude</th>\n",
       "      <th>longitude</th>\n",
       "      <th>eco_type/Value</th>\n",
       "    </tr>\n",
       "  </thead>\n",
       "  <tbody>\n",
       "    <tr>\n",
       "      <th>0</th>\n",
       "      <td>12</td>\n",
       "      <td>-5.13</td>\n",
       "      <td>-3.23</td>\n",
       "      <td>-19.44</td>\n",
       "      <td>51.105500</td>\n",
       "      <td>71.430987</td>\n",
       "      <td>1.0</td>\n",
       "    </tr>\n",
       "    <tr>\n",
       "      <th>20</th>\n",
       "      <td>17</td>\n",
       "      <td>-5.39</td>\n",
       "      <td>-3.20</td>\n",
       "      <td>-19.06</td>\n",
       "      <td>51.105338</td>\n",
       "      <td>71.430787</td>\n",
       "      <td>1.0</td>\n",
       "    </tr>\n",
       "    <tr>\n",
       "      <th>44</th>\n",
       "      <td>21</td>\n",
       "      <td>-4.89</td>\n",
       "      <td>-3.73</td>\n",
       "      <td>-19.53</td>\n",
       "      <td>51.105240</td>\n",
       "      <td>71.430672</td>\n",
       "      <td>1.0</td>\n",
       "    </tr>\n",
       "    <tr>\n",
       "      <th>64</th>\n",
       "      <td>13</td>\n",
       "      <td>-6.64</td>\n",
       "      <td>-3.97</td>\n",
       "      <td>-18.85</td>\n",
       "      <td>51.105058</td>\n",
       "      <td>71.430555</td>\n",
       "      <td>1.0</td>\n",
       "    </tr>\n",
       "    <tr>\n",
       "      <th>84</th>\n",
       "      <td>17</td>\n",
       "      <td>-4.78</td>\n",
       "      <td>-5.62</td>\n",
       "      <td>-19.99</td>\n",
       "      <td>51.104758</td>\n",
       "      <td>71.430820</td>\n",
       "      <td>1.0</td>\n",
       "    </tr>\n",
       "    <tr>\n",
       "      <th>...</th>\n",
       "      <td>...</td>\n",
       "      <td>...</td>\n",
       "      <td>...</td>\n",
       "      <td>...</td>\n",
       "      <td>...</td>\n",
       "      <td>...</td>\n",
       "      <td>...</td>\n",
       "    </tr>\n",
       "    <tr>\n",
       "      <th>470</th>\n",
       "      <td>66</td>\n",
       "      <td>-5.43</td>\n",
       "      <td>-5.31</td>\n",
       "      <td>-23.10</td>\n",
       "      <td>51.091732</td>\n",
       "      <td>71.425725</td>\n",
       "      <td>3.0</td>\n",
       "    </tr>\n",
       "    <tr>\n",
       "      <th>500</th>\n",
       "      <td>38</td>\n",
       "      <td>-5.86</td>\n",
       "      <td>-3.40</td>\n",
       "      <td>-19.89</td>\n",
       "      <td>51.090203</td>\n",
       "      <td>71.425187</td>\n",
       "      <td>3.0</td>\n",
       "    </tr>\n",
       "    <tr>\n",
       "      <th>473</th>\n",
       "      <td>30</td>\n",
       "      <td>-9.40</td>\n",
       "      <td>-7.71</td>\n",
       "      <td>-18.48</td>\n",
       "      <td>51.091193</td>\n",
       "      <td>71.425507</td>\n",
       "      <td>3.0</td>\n",
       "    </tr>\n",
       "    <tr>\n",
       "      <th>473</th>\n",
       "      <td>30</td>\n",
       "      <td>-9.40</td>\n",
       "      <td>-7.71</td>\n",
       "      <td>-18.48</td>\n",
       "      <td>51.091193</td>\n",
       "      <td>71.425507</td>\n",
       "      <td>3.0</td>\n",
       "    </tr>\n",
       "    <tr>\n",
       "      <th>470</th>\n",
       "      <td>66</td>\n",
       "      <td>-5.43</td>\n",
       "      <td>-5.31</td>\n",
       "      <td>-23.10</td>\n",
       "      <td>51.091732</td>\n",
       "      <td>71.425725</td>\n",
       "      <td>3.0</td>\n",
       "    </tr>\n",
       "  </tbody>\n",
       "</table>\n",
       "<p>399 rows × 7 columns</p>\n",
       "</div>"
      ],
      "text/plain": [
       "     speed  axis_x/Value  axis_y/Value  axis_z/Value   latitude  longitude  \\\n",
       "0       12         -5.13         -3.23        -19.44  51.105500  71.430987   \n",
       "20      17         -5.39         -3.20        -19.06  51.105338  71.430787   \n",
       "44      21         -4.89         -3.73        -19.53  51.105240  71.430672   \n",
       "64      13         -6.64         -3.97        -18.85  51.105058  71.430555   \n",
       "84      17         -4.78         -5.62        -19.99  51.104758  71.430820   \n",
       "..     ...           ...           ...           ...        ...        ...   \n",
       "470     66         -5.43         -5.31        -23.10  51.091732  71.425725   \n",
       "500     38         -5.86         -3.40        -19.89  51.090203  71.425187   \n",
       "473     30         -9.40         -7.71        -18.48  51.091193  71.425507   \n",
       "473     30         -9.40         -7.71        -18.48  51.091193  71.425507   \n",
       "470     66         -5.43         -5.31        -23.10  51.091732  71.425725   \n",
       "\n",
       "     eco_type/Value  \n",
       "0               1.0  \n",
       "20              1.0  \n",
       "44              1.0  \n",
       "64              1.0  \n",
       "84              1.0  \n",
       "..              ...  \n",
       "470             3.0  \n",
       "500             3.0  \n",
       "473             3.0  \n",
       "473             3.0  \n",
       "470             3.0  \n",
       "\n",
       "[399 rows x 7 columns]"
      ]
     },
     "execution_count": 397,
     "metadata": {},
     "output_type": "execute_result"
    }
   ],
   "source": [
    "oversampled_df[\"axis_x/Value\"] = oversampled_df[\"axis_x/Value\"] / 100\n",
    "oversampled_df[\"axis_y/Value\"] = oversampled_df[\"axis_y/Value\"] / 100\n",
    "oversampled_df[\"axis_z/Value\"] = oversampled_df[\"axis_z/Value\"] / 100\n",
    "\n",
    "oversampled_df"
   ]
  },
  {
   "cell_type": "code",
   "execution_count": 398,
   "metadata": {},
   "outputs": [
    {
     "data": {
      "text/html": [
       "<div>\n",
       "<style scoped>\n",
       "    .dataframe tbody tr th:only-of-type {\n",
       "        vertical-align: middle;\n",
       "    }\n",
       "\n",
       "    .dataframe tbody tr th {\n",
       "        vertical-align: top;\n",
       "    }\n",
       "\n",
       "    .dataframe thead th {\n",
       "        text-align: right;\n",
       "    }\n",
       "</style>\n",
       "<table border=\"1\" class=\"dataframe\">\n",
       "  <thead>\n",
       "    <tr style=\"text-align: right;\">\n",
       "      <th></th>\n",
       "      <th>axis_x/Value</th>\n",
       "      <th>axis_y/Value</th>\n",
       "      <th>axis_z/Value</th>\n",
       "      <th>eco_type/Value</th>\n",
       "    </tr>\n",
       "  </thead>\n",
       "  <tbody>\n",
       "    <tr>\n",
       "      <th>0</th>\n",
       "      <td>-5.13</td>\n",
       "      <td>-3.23</td>\n",
       "      <td>-19.44</td>\n",
       "      <td>1.0</td>\n",
       "    </tr>\n",
       "    <tr>\n",
       "      <th>20</th>\n",
       "      <td>-5.39</td>\n",
       "      <td>-3.20</td>\n",
       "      <td>-19.06</td>\n",
       "      <td>1.0</td>\n",
       "    </tr>\n",
       "    <tr>\n",
       "      <th>44</th>\n",
       "      <td>-4.89</td>\n",
       "      <td>-3.73</td>\n",
       "      <td>-19.53</td>\n",
       "      <td>1.0</td>\n",
       "    </tr>\n",
       "    <tr>\n",
       "      <th>64</th>\n",
       "      <td>-6.64</td>\n",
       "      <td>-3.97</td>\n",
       "      <td>-18.85</td>\n",
       "      <td>1.0</td>\n",
       "    </tr>\n",
       "    <tr>\n",
       "      <th>84</th>\n",
       "      <td>-4.78</td>\n",
       "      <td>-5.62</td>\n",
       "      <td>-19.99</td>\n",
       "      <td>1.0</td>\n",
       "    </tr>\n",
       "    <tr>\n",
       "      <th>...</th>\n",
       "      <td>...</td>\n",
       "      <td>...</td>\n",
       "      <td>...</td>\n",
       "      <td>...</td>\n",
       "    </tr>\n",
       "    <tr>\n",
       "      <th>470</th>\n",
       "      <td>-5.43</td>\n",
       "      <td>-5.31</td>\n",
       "      <td>-23.10</td>\n",
       "      <td>3.0</td>\n",
       "    </tr>\n",
       "    <tr>\n",
       "      <th>500</th>\n",
       "      <td>-5.86</td>\n",
       "      <td>-3.40</td>\n",
       "      <td>-19.89</td>\n",
       "      <td>3.0</td>\n",
       "    </tr>\n",
       "    <tr>\n",
       "      <th>473</th>\n",
       "      <td>-9.40</td>\n",
       "      <td>-7.71</td>\n",
       "      <td>-18.48</td>\n",
       "      <td>3.0</td>\n",
       "    </tr>\n",
       "    <tr>\n",
       "      <th>473</th>\n",
       "      <td>-9.40</td>\n",
       "      <td>-7.71</td>\n",
       "      <td>-18.48</td>\n",
       "      <td>3.0</td>\n",
       "    </tr>\n",
       "    <tr>\n",
       "      <th>470</th>\n",
       "      <td>-5.43</td>\n",
       "      <td>-5.31</td>\n",
       "      <td>-23.10</td>\n",
       "      <td>3.0</td>\n",
       "    </tr>\n",
       "  </tbody>\n",
       "</table>\n",
       "<p>399 rows × 4 columns</p>\n",
       "</div>"
      ],
      "text/plain": [
       "     axis_x/Value  axis_y/Value  axis_z/Value  eco_type/Value\n",
       "0           -5.13         -3.23        -19.44             1.0\n",
       "20          -5.39         -3.20        -19.06             1.0\n",
       "44          -4.89         -3.73        -19.53             1.0\n",
       "64          -6.64         -3.97        -18.85             1.0\n",
       "84          -4.78         -5.62        -19.99             1.0\n",
       "..            ...           ...           ...             ...\n",
       "470         -5.43         -5.31        -23.10             3.0\n",
       "500         -5.86         -3.40        -19.89             3.0\n",
       "473         -9.40         -7.71        -18.48             3.0\n",
       "473         -9.40         -7.71        -18.48             3.0\n",
       "470         -5.43         -5.31        -23.10             3.0\n",
       "\n",
       "[399 rows x 4 columns]"
      ]
     },
     "execution_count": 398,
     "metadata": {},
     "output_type": "execute_result"
    }
   ],
   "source": [
    "oversampled_df = oversampled_df.drop(columns=[\"speed\", \"latitude\", \"longitude\"], axis=1)\n",
    "oversampled_df"
   ]
  },
  {
   "cell_type": "markdown",
   "metadata": {},
   "source": [
    "# Feature Scalling / Normalizing"
   ]
  },
  {
   "cell_type": "code",
   "execution_count": 399,
   "metadata": {
    "pycharm": {
     "is_executing": true
    }
   },
   "outputs": [],
   "source": [
    "scaler = MinMaxScaler()\n",
    "oversampled_df[[\"axis_x/Value\", \"axis_y/Value\", \"axis_z/Value\"]] = scaler.fit_transform(oversampled_df[[\"axis_x/Value\", \"axis_y/Value\", \"axis_z/Value\"]])"
   ]
  },
  {
   "cell_type": "code",
   "execution_count": 400,
   "metadata": {
    "pycharm": {
     "is_executing": true
    }
   },
   "outputs": [
    {
     "data": {
      "text/html": [
       "<div>\n",
       "<style scoped>\n",
       "    .dataframe tbody tr th:only-of-type {\n",
       "        vertical-align: middle;\n",
       "    }\n",
       "\n",
       "    .dataframe tbody tr th {\n",
       "        vertical-align: top;\n",
       "    }\n",
       "\n",
       "    .dataframe thead th {\n",
       "        text-align: right;\n",
       "    }\n",
       "</style>\n",
       "<table border=\"1\" class=\"dataframe\">\n",
       "  <thead>\n",
       "    <tr style=\"text-align: right;\">\n",
       "      <th></th>\n",
       "      <th>axis_x/Value</th>\n",
       "      <th>axis_y/Value</th>\n",
       "      <th>axis_z/Value</th>\n",
       "      <th>eco_type/Value</th>\n",
       "    </tr>\n",
       "  </thead>\n",
       "  <tbody>\n",
       "    <tr>\n",
       "      <th>0</th>\n",
       "      <td>0.762774</td>\n",
       "      <td>0.683938</td>\n",
       "      <td>0.526099</td>\n",
       "      <td>1.0</td>\n",
       "    </tr>\n",
       "    <tr>\n",
       "      <th>20</th>\n",
       "      <td>0.739051</td>\n",
       "      <td>0.686528</td>\n",
       "      <td>0.578297</td>\n",
       "      <td>1.0</td>\n",
       "    </tr>\n",
       "    <tr>\n",
       "      <th>44</th>\n",
       "      <td>0.784672</td>\n",
       "      <td>0.640760</td>\n",
       "      <td>0.513736</td>\n",
       "      <td>1.0</td>\n",
       "    </tr>\n",
       "    <tr>\n",
       "      <th>64</th>\n",
       "      <td>0.625000</td>\n",
       "      <td>0.620035</td>\n",
       "      <td>0.607143</td>\n",
       "      <td>1.0</td>\n",
       "    </tr>\n",
       "    <tr>\n",
       "      <th>84</th>\n",
       "      <td>0.794708</td>\n",
       "      <td>0.477547</td>\n",
       "      <td>0.450549</td>\n",
       "      <td>1.0</td>\n",
       "    </tr>\n",
       "    <tr>\n",
       "      <th>...</th>\n",
       "      <td>...</td>\n",
       "      <td>...</td>\n",
       "      <td>...</td>\n",
       "      <td>...</td>\n",
       "    </tr>\n",
       "    <tr>\n",
       "      <th>470</th>\n",
       "      <td>0.735401</td>\n",
       "      <td>0.504318</td>\n",
       "      <td>0.023352</td>\n",
       "      <td>3.0</td>\n",
       "    </tr>\n",
       "    <tr>\n",
       "      <th>500</th>\n",
       "      <td>0.696168</td>\n",
       "      <td>0.669257</td>\n",
       "      <td>0.464286</td>\n",
       "      <td>3.0</td>\n",
       "    </tr>\n",
       "    <tr>\n",
       "      <th>473</th>\n",
       "      <td>0.373175</td>\n",
       "      <td>0.297064</td>\n",
       "      <td>0.657967</td>\n",
       "      <td>3.0</td>\n",
       "    </tr>\n",
       "    <tr>\n",
       "      <th>473</th>\n",
       "      <td>0.373175</td>\n",
       "      <td>0.297064</td>\n",
       "      <td>0.657967</td>\n",
       "      <td>3.0</td>\n",
       "    </tr>\n",
       "    <tr>\n",
       "      <th>470</th>\n",
       "      <td>0.735401</td>\n",
       "      <td>0.504318</td>\n",
       "      <td>0.023352</td>\n",
       "      <td>3.0</td>\n",
       "    </tr>\n",
       "  </tbody>\n",
       "</table>\n",
       "<p>399 rows × 4 columns</p>\n",
       "</div>"
      ],
      "text/plain": [
       "     axis_x/Value  axis_y/Value  axis_z/Value  eco_type/Value\n",
       "0        0.762774      0.683938      0.526099             1.0\n",
       "20       0.739051      0.686528      0.578297             1.0\n",
       "44       0.784672      0.640760      0.513736             1.0\n",
       "64       0.625000      0.620035      0.607143             1.0\n",
       "84       0.794708      0.477547      0.450549             1.0\n",
       "..            ...           ...           ...             ...\n",
       "470      0.735401      0.504318      0.023352             3.0\n",
       "500      0.696168      0.669257      0.464286             3.0\n",
       "473      0.373175      0.297064      0.657967             3.0\n",
       "473      0.373175      0.297064      0.657967             3.0\n",
       "470      0.735401      0.504318      0.023352             3.0\n",
       "\n",
       "[399 rows x 4 columns]"
      ]
     },
     "execution_count": 400,
     "metadata": {},
     "output_type": "execute_result"
    }
   ],
   "source": [
    "oversampled_df"
   ]
  },
  {
   "cell_type": "code",
   "execution_count": 401,
   "metadata": {
    "pycharm": {
     "is_executing": true
    }
   },
   "outputs": [],
   "source": [
    "dataset = oversampled_df.to_numpy()"
   ]
  },
  {
   "cell_type": "code",
   "execution_count": 402,
   "metadata": {
    "pycharm": {
     "is_executing": true
    }
   },
   "outputs": [],
   "source": [
    "X_l = oversampled_df.iloc[:, :-1]\n",
    "y_l = oversampled_df.iloc[:, -1]"
   ]
  },
  {
   "cell_type": "code",
   "execution_count": 403,
   "metadata": {
    "pycharm": {
     "is_executing": true
    }
   },
   "outputs": [],
   "source": [
    "group_1 = oversampled_df.loc[y == '1.0']\n",
    "group_2 = oversampled_df.loc[y == '2.0']\n",
    "group_3 = oversampled_df.loc[y == '3.0']"
   ]
  },
  {
   "cell_type": "code",
   "execution_count": 404,
   "metadata": {
    "pycharm": {
     "is_executing": true
    }
   },
   "outputs": [
    {
     "name": "stdout",
     "output_type": "stream",
     "text": [
      "0      1.0\n",
      "20     1.0\n",
      "44     1.0\n",
      "64     1.0\n",
      "84     1.0\n",
      "      ... \n",
      "470    3.0\n",
      "500    3.0\n",
      "473    3.0\n",
      "473    3.0\n",
      "470    3.0\n",
      "Name: eco_type/Value, Length: 399, dtype: float64\n"
     ]
    }
   ],
   "source": [
    "X_u = oversampled_df.drop(columns=['eco_type/Value'], axis=1)\n",
    "y_u = oversampled_df['eco_type/Value']\n",
    "print(y_u)"
   ]
  },
  {
   "cell_type": "code",
   "execution_count": 405,
   "metadata": {
    "pycharm": {
     "is_executing": true
    }
   },
   "outputs": [
    {
     "data": {
      "text/plain": [
       "((267, 3), (132, 3))"
      ]
     },
     "execution_count": 405,
     "metadata": {},
     "output_type": "execute_result"
    }
   ],
   "source": [
    "X_train, X_test, y_train, y_test = train_test_split(X_u, y_u, test_size = 0.33, random_state = 42, shuffle=True)\n",
    "X_train.shape, X_test.shape"
   ]
  },
  {
   "cell_type": "markdown",
   "metadata": {},
   "source": [
    "# Classifications / Logistic regression"
   ]
  },
  {
   "cell_type": "code",
   "execution_count": 411,
   "metadata": {
    "pycharm": {
     "is_executing": true
    }
   },
   "outputs": [
    {
     "name": "stdout",
     "output_type": "stream",
     "text": [
      "Model accuracy score: 0.5985\n"
     ]
    }
   ],
   "source": [
    "logreg = LogisticRegression(max_iter=1700)\n",
    "logreg.fit(X_train, y_train)\n",
    "y_pred = logreg.predict(X_test)\n",
    "print('Model accuracy score: {0:0.4f}'. format(accuracy_score(y_test, y_pred)))"
   ]
  },
  {
   "cell_type": "code",
   "execution_count": 412,
   "metadata": {
    "pycharm": {
     "is_executing": true
    }
   },
   "outputs": [
    {
     "data": {
      "text/plain": [
       "array([3., 2., 2., 2., 2., 1., 2., 1., 1., 2., 3., 2., 2., 2., 1., 1., 2.,\n",
       "       2., 2., 1., 3., 2., 1., 3., 3., 2., 2., 2., 1., 2., 2., 2., 1., 2.,\n",
       "       2., 2., 1., 2., 2., 2., 3., 2., 3., 3., 2., 1., 2., 3., 2., 2., 2.,\n",
       "       2., 1., 1., 3., 2., 2., 2., 2., 2., 1., 2., 3., 2., 2., 3., 2., 3.,\n",
       "       3., 2., 1., 2., 2., 1., 1., 2., 2., 3., 2., 3., 3., 2., 1., 3., 3.,\n",
       "       3., 3., 2., 3., 2., 2., 2., 2., 3., 1., 2., 1., 2., 3., 2., 2., 3.,\n",
       "       2., 3., 3., 1., 3., 3., 2., 3., 3., 1., 3., 2., 2., 2., 2., 2., 2.,\n",
       "       3., 2., 3., 2., 3., 2., 2., 2., 2., 1., 3., 2., 2., 2., 1., 3., 2.,\n",
       "       2., 2., 2., 3., 3., 2., 2., 1., 2., 2., 3., 3., 2., 3., 2., 2., 1.,\n",
       "       2., 2., 1., 2., 1., 3., 2., 3., 2., 3., 1., 3., 2., 2., 3., 2., 3.,\n",
       "       2., 2., 2., 2., 2., 2., 1., 3., 2., 1., 1., 3., 2., 3., 1., 2., 2.,\n",
       "       2., 1., 3., 2., 1., 3., 3., 1., 2., 2., 3., 2., 2., 1., 2., 3., 2.,\n",
       "       2., 2., 1., 2., 3., 2., 2., 1., 2., 3., 2., 2., 1., 3., 2., 3., 2.,\n",
       "       3., 1., 2., 3., 3., 3., 2., 2., 2., 2., 2., 3., 2., 2., 2., 2., 3.,\n",
       "       2., 2., 2., 3., 2., 3., 2., 3., 3., 2., 1., 2., 1., 2., 3., 1., 3.,\n",
       "       3., 3., 2., 1., 3., 3., 2., 2., 2., 3., 1., 3.])"
      ]
     },
     "execution_count": 412,
     "metadata": {},
     "output_type": "execute_result"
    }
   ],
   "source": [
    "y_pred_train = logreg.predict(X_train)\n",
    "y_pred_train"
   ]
  },
  {
   "cell_type": "code",
   "execution_count": 413,
   "metadata": {
    "pycharm": {
     "is_executing": true
    }
   },
   "outputs": [
    {
     "name": "stdout",
     "output_type": "stream",
     "text": [
      "Training-set accuracy score: 0.6742\n"
     ]
    }
   ],
   "source": [
    "print('Training-set accuracy score: {0:0.4f}'. format(accuracy_score(y_train, y_pred_train)))"
   ]
  },
  {
   "cell_type": "code",
   "execution_count": 414,
   "metadata": {
    "pycharm": {
     "is_executing": true
    }
   },
   "outputs": [
    {
     "name": "stdout",
     "output_type": "stream",
     "text": [
      "Training set score: 0.6742\n",
      "Test set score: 0.5985\n"
     ]
    }
   ],
   "source": [
    "# Check for overfitting and underfitting\n",
    "print('Training set score: {:.4f}'.format(logreg.score(X_train, y_train)))\n",
    "print('Test set score: {:.4f}'.format(logreg.score(X_test, y_test)))"
   ]
  },
  {
   "cell_type": "code",
   "execution_count": 415,
   "metadata": {
    "pycharm": {
     "is_executing": true
    }
   },
   "outputs": [
    {
     "name": "stdout",
     "output_type": "stream",
     "text": [
      "Confusion matrix\n",
      "\n",
      " [[12 36  4]\n",
      " [ 0 34  0]\n",
      " [13  0 33]]\n",
      "\n",
      "True Positives(TP) =  12\n",
      "\n",
      "True Negatives(TN) =  34\n",
      "\n",
      "False Positives(FP) =  36\n",
      "\n",
      "False Negatives(FN) =  0\n"
     ]
    }
   ],
   "source": [
    "cm = confusion_matrix(y_test, y_pred)\n",
    "print('Confusion matrix\\n\\n', cm)\n",
    "print('\\nTrue Positives(TP) = ', cm[0,0])\n",
    "print('\\nTrue Negatives(TN) = ', cm[1,1])\n",
    "print('\\nFalse Positives(FP) = ', cm[0,1])\n",
    "print('\\nFalse Negatives(FN) = ', cm[1,0])"
   ]
  },
  {
   "cell_type": "code",
   "execution_count": 416,
   "metadata": {
    "pycharm": {
     "is_executing": true
    }
   },
   "outputs": [
    {
     "data": {
      "image/png": "[encoded data removed]",
      "text/plain": [
       "<Figure size 648x648 with 2 Axes>"
      ]
     },
     "metadata": {
      "needs_background": "light"
     },
     "output_type": "display_data"
    }
   ],
   "source": [
    "plt.figure(figsize=(9,9))\n",
    "sns.heatmap(cm, annot=True, fmt=\".3f\", linewidths=.5, square = True, cmap = 'Blues_r');\n",
    "plt.ylabel('Actual label');\n",
    "plt.xlabel('Predicted label');\n",
    "all_sample_title = 'Accuracy Score: {0}'.format(accuracy_score(y_test, y_pred))\n",
    "plt.title(all_sample_title, size = 15);"
   ]
  },
  {
   "cell_type": "markdown",
   "metadata": {},
   "source": [
    "# KNN implementation"
   ]
  },
  {
   "cell_type": "code",
   "execution_count": 417,
   "metadata": {
    "pycharm": {
     "is_executing": true
    }
   },
   "outputs": [],
   "source": [
    "neighbors = np.arange(1,9)\n",
    "train_accuracy =np.empty(len(neighbors))\n",
    "test_accuracy = np.empty(len(neighbors))\n",
    "\n",
    "for i,k in enumerate(neighbors):\n",
    "    #Setup a knn classifier with k neighbors\n",
    "    knn = KNeighborsClassifier(n_neighbors=k)\n",
    "    \n",
    "    knn.fit(X_train, y_train)\n",
    "    train_accuracy[i] = knn.score(X_train, y_train)\n",
    "    test_accuracy[i] = knn.score(X_test, y_test) "
   ]
  },
  {
   "cell_type": "code",
   "execution_count": 418,
   "metadata": {
    "pycharm": {
     "is_executing": true
    }
   },
   "outputs": [
    {
     "data": {
      "image/png": "[encoded data removed]",
      "text/plain": [
       "<Figure size 432x288 with 1 Axes>"
      ]
     },
     "metadata": {
      "needs_background": "light"
     },
     "output_type": "display_data"
    }
   ],
   "source": [
    "plt.title('k-NN Varying number of neighbors')\n",
    "plt.plot(neighbors, test_accuracy, label='Testing Accuracy')\n",
    "plt.plot(neighbors, train_accuracy, label='Training accuracy')\n",
    "plt.legend()\n",
    "plt.xlabel('Number of neighbors')\n",
    "plt.ylabel('Accuracy')\n",
    "plt.show()"
   ]
  },
  {
   "cell_type": "code",
   "execution_count": 419,
   "metadata": {
    "pycharm": {
     "is_executing": true
    }
   },
   "outputs": [
    {
     "data": {
      "text/plain": [
       "array([0.88764045, 0.88764045, 0.97752809, 0.97752809, 0.96254682,\n",
       "       0.96254682, 0.93632959, 0.93632959])"
      ]
     },
     "execution_count": 419,
     "metadata": {},
     "output_type": "execute_result"
    }
   ],
   "source": [
    "train_accuracy"
   ]
  },
  {
   "cell_type": "code",
   "execution_count": 420,
   "metadata": {
    "pycharm": {
     "is_executing": true
    }
   },
   "outputs": [
    {
     "data": {
      "text/plain": [
       "array([0.84848485, 0.84848485, 0.91666667, 0.91666667, 0.88636364,\n",
       "       0.88636364, 0.87121212, 0.87121212])"
      ]
     },
     "execution_count": 420,
     "metadata": {},
     "output_type": "execute_result"
    }
   ],
   "source": [
    "test_accuracy"
   ]
  },
  {
   "cell_type": "code",
   "execution_count": 421,
   "metadata": {
    "pycharm": {
     "is_executing": true
    }
   },
   "outputs": [
    {
     "name": "stdout",
     "output_type": "stream",
     "text": [
      "Model KNN with n = 3 accuracy score: 0.9167\n"
     ]
    }
   ],
   "source": [
    "# KNN with neighbours = 3\n",
    "\n",
    "knn = KNeighborsClassifier(n_neighbors=3)\n",
    "knn.fit(X_train, y_train)\n",
    "y_pred = knn.predict(X_test)\n",
    "print('Model KNN with n = 3 accuracy score: {0:0.4f}'. format(accuracy_score(y_test, y_pred)))"
   ]
  },
  {
   "cell_type": "code",
   "execution_count": 422,
   "metadata": {
    "pycharm": {
     "is_executing": true
    }
   },
   "outputs": [
    {
     "name": "stdout",
     "output_type": "stream",
     "text": [
      "Training set score: 0.9775\n",
      "Test set score: 0.9167\n"
     ]
    }
   ],
   "source": [
    "print('Training set score: {:.4f}'.format(knn.score(X_train, y_train)))\n",
    "\n",
    "print('Test set score: {:.4f}'.format(knn.score(X_test, y_test)))"
   ]
  },
  {
   "cell_type": "code",
   "execution_count": 423,
   "metadata": {},
   "outputs": [
    {
     "name": "stdout",
     "output_type": "stream",
     "text": [
      "Confusion matrix\n",
      "\n",
      " [[41  7  4]\n",
      " [ 0 34  0]\n",
      " [ 0  0 46]]\n",
      "\n",
      "True Positives(TP) =  41\n",
      "\n",
      "True Negatives(TN) =  34\n",
      "\n",
      "False Positives(FP) =  7\n",
      "\n",
      "False Negatives(FN) =  0\n"
     ]
    }
   ],
   "source": [
    "cm = confusion_matrix(y_test, y_pred)\n",
    "print('Confusion matrix\\n\\n', cm)\n",
    "print('\\nTrue Positives(TP) = ', cm[0,0])\n",
    "print('\\nTrue Negatives(TN) = ', cm[1,1])\n",
    "print('\\nFalse Positives(FP) = ', cm[0,1])\n",
    "print('\\nFalse Negatives(FN) = ', cm[1,0])"
   ]
  },
  {
   "cell_type": "markdown",
   "metadata": {},
   "source": [
    "# Decision tree"
   ]
  },
  {
   "cell_type": "code",
   "execution_count": 424,
   "metadata": {
    "pycharm": {
     "is_executing": true
    }
   },
   "outputs": [
    {
     "name": "stdout",
     "output_type": "stream",
     "text": [
      ">1, train: 0.697, test: 0.606\n",
      ">2, train: 0.850, test: 0.833\n",
      ">3, train: 0.959, test: 0.879\n",
      ">4, train: 0.978, test: 0.902\n",
      ">5, train: 0.981, test: 0.917\n",
      ">6, train: 0.985, test: 0.917\n",
      ">7, train: 0.985, test: 0.917\n",
      ">8, train: 0.996, test: 0.947\n",
      ">9, train: 0.996, test: 0.917\n",
      ">10, train: 0.996, test: 0.917\n",
      ">11, train: 0.996, test: 0.947\n",
      ">12, train: 0.996, test: 0.947\n",
      ">13, train: 0.996, test: 0.932\n",
      ">14, train: 0.996, test: 0.932\n",
      ">15, train: 0.996, test: 0.932\n",
      ">16, train: 0.996, test: 0.924\n",
      ">17, train: 0.996, test: 0.947\n",
      ">18, train: 0.996, test: 0.932\n",
      ">19, train: 0.996, test: 0.939\n",
      ">20, train: 0.996, test: 0.939\n",
      ">21, train: 0.996, test: 0.909\n",
      ">22, train: 0.996, test: 0.939\n",
      ">23, train: 0.996, test: 0.924\n",
      ">24, train: 0.996, test: 0.909\n",
      ">25, train: 0.996, test: 0.955\n",
      ">26, train: 0.996, test: 0.924\n",
      ">27, train: 0.996, test: 0.924\n",
      ">28, train: 0.996, test: 0.939\n",
      ">29, train: 0.996, test: 0.917\n",
      ">30, train: 0.996, test: 0.932\n"
     ]
    }
   ],
   "source": [
    "#Check overfitting or underfitting\n",
    "values = [i for i in range(1, 31)]\n",
    "train_scores = []\n",
    "test_scores = []\n",
    "for i in values:\n",
    " # configure the model\n",
    " model = DecisionTreeClassifier(max_depth=i)\n",
    " # fit model on the training dataset\n",
    " model.fit(X_train, y_train)\n",
    " # evaluate on the train dataset\n",
    " train_yhat = model.predict(X_train)\n",
    " train_acc = accuracy_score(y_train, train_yhat)\n",
    " train_scores.append(train_acc)\n",
    " # evaluate on the test dataset\n",
    " test_yhat = model.predict(X_test)\n",
    " test_acc = accuracy_score(y_test, test_yhat)\n",
    " test_scores.append(test_acc)\n",
    " # summarize progress\n",
    " print('>%d, train: %.3f, test: %.3f' % (i, train_acc, test_acc))"
   ]
  },
  {
   "cell_type": "code",
   "execution_count": 425,
   "metadata": {
    "pycharm": {
     "is_executing": true
    }
   },
   "outputs": [
    {
     "data": {
      "image/png": "[encoded data removed]",
      "text/plain": [
       "<Figure size 432x288 with 1 Axes>"
      ]
     },
     "metadata": {
      "needs_background": "light"
     },
     "output_type": "display_data"
    }
   ],
   "source": [
    "plt.title('Learning Curve of Decision Tree')\n",
    "plt.plot(values, train_scores, '-o', label='Train')\n",
    "plt.plot(values, test_scores, '-o', label='Test')\n",
    "plt.legend()\n",
    "plt.show()"
   ]
  },
  {
   "cell_type": "code",
   "execution_count": 426,
   "metadata": {
    "pycharm": {
     "is_executing": true
    }
   },
   "outputs": [
    {
     "data": {
      "image/png": "[encoded data removed]",
      "text/plain": [
       "<Figure size 1200x1200 with 1 Axes>"
      ]
     },
     "metadata": {
      "needs_background": "light"
     },
     "output_type": "display_data"
    }
   ],
   "source": [
    "# Tree visualization\n",
    "clf = tree.DecisionTreeClassifier()\n",
    "clf = clf.fit(X_train, y_train)\n",
    "fn=['axis_x/Value','axis_y/Value','axis_z/Value', 'speed', 'latitude', 'longitude']\n",
    "cn=['acceleration', 'braking', 'cornering']\n",
    "fig, axes = plt.subplots(nrows = 1,ncols = 1,figsize = (4,4), dpi=300)\n",
    "tree.plot_tree(clf,\n",
    "               feature_names = fn, \n",
    "               class_names=cn,\n",
    "               filled = True);\n",
    "fig.savefig('imagename.png')"
   ]
  },
  {
   "cell_type": "markdown",
   "metadata": {},
   "source": [
    "# SVM classification"
   ]
  },
  {
   "cell_type": "code",
   "execution_count": 427,
   "metadata": {
    "pycharm": {
     "is_executing": true
    }
   },
   "outputs": [
    {
     "name": "stdout",
     "output_type": "stream",
     "text": [
      "Accuracy Score in SVM model:\n",
      "0.8409090909090909\n"
     ]
    }
   ],
   "source": [
    "accuracy_list = []\n",
    "svc = SVC()\n",
    "svc.fit(X_train,y_train)\n",
    "y_pred = svc.predict(X_test)\n",
    "accuracy_list.append(accuracy_score(y_test,y_pred))\n",
    "print('Accuracy Score in SVM model:')\n",
    "print(metrics.accuracy_score(y_test,y_pred))"
   ]
  },
  {
   "cell_type": "code",
   "execution_count": 428,
   "metadata": {
    "pycharm": {
     "is_executing": true
    }
   },
   "outputs": [
    {
     "name": "stdout",
     "output_type": "stream",
     "text": [
      "Accuracy Score:\n",
      "0.5757575757575758\n",
      "[0.8409090909090909, 0.5757575757575758]\n"
     ]
    }
   ],
   "source": [
    "svc = SVC(kernel ='linear')\n",
    "svc.fit(X_train,y_train)\n",
    "y_pred = svc.predict(X_test)\n",
    "accuracy_list.append(accuracy_score(y_test,y_pred))\n",
    "print('Accuracy Score:')\n",
    "print(metrics.accuracy_score(y_test,y_pred))\n",
    "print(accuracy_list)"
   ]
  },
  {
   "cell_type": "code",
   "execution_count": 429,
   "metadata": {
    "pycharm": {
     "is_executing": true
    }
   },
   "outputs": [
    {
     "name": "stdout",
     "output_type": "stream",
     "text": [
      "Accuracy Score:\n",
      "0.8409090909090909\n"
     ]
    }
   ],
   "source": [
    "svc = SVC(kernel='rbf')\n",
    "svc.fit(X_train,y_train)\n",
    "y_pred = svc.predict(X_test)\n",
    "accuracy_list.append(accuracy_score(y_test,y_pred))\n",
    "print('Accuracy Score:')\n",
    "print(metrics.accuracy_score(y_test,y_pred))"
   ]
  },
  {
   "cell_type": "code",
   "execution_count": 430,
   "metadata": {
    "pycharm": {
     "is_executing": true
    }
   },
   "outputs": [
    {
     "name": "stdout",
     "output_type": "stream",
     "text": [
      "Accuracy Score:\n",
      "0.8181818181818182\n"
     ]
    }
   ],
   "source": [
    "svc = SVC(kernel='poly')\n",
    "svc.fit(X_train,y_train)\n",
    "y_pred = svc.predict(X_test)\n",
    "accuracy_list.append(accuracy_score(y_test,y_pred))\n",
    "print('Accuracy Score:')\n",
    "print(metrics.accuracy_score(y_test,y_pred))"
   ]
  },
  {
   "cell_type": "code",
   "execution_count": 431,
   "metadata": {
    "pycharm": {
     "is_executing": true
    }
   },
   "outputs": [
    {
     "name": "stdout",
     "output_type": "stream",
     "text": [
      "[0.8409090909090909, 0.5757575757575758, 0.8409090909090909, 0.8181818181818182]\n"
     ]
    }
   ],
   "source": [
    "print(accuracy_list)"
   ]
  },
  {
   "cell_type": "code",
   "execution_count": 432,
   "metadata": {},
   "outputs": [
    {
     "name": "stdout",
     "output_type": "stream",
     "text": [
      "Confusion matrix\n",
      "\n",
      " [[41  6  5]\n",
      " [ 0 34  0]\n",
      " [13  0 33]]\n",
      "\n",
      "True Positives(TP) =  41\n",
      "\n",
      "True Negatives(TN) =  34\n",
      "\n",
      "False Positives(FP) =  6\n",
      "\n",
      "False Negatives(FN) =  0\n"
     ]
    }
   ],
   "source": [
    "cm = confusion_matrix(y_test, y_pred)\n",
    "print('Confusion matrix\\n\\n', cm)\n",
    "print('\\nTrue Positives(TP) = ', cm[0,0])\n",
    "print('\\nTrue Negatives(TN) = ', cm[1,1])\n",
    "print('\\nFalse Positives(FP) = ', cm[0,1])\n",
    "print('\\nFalse Negatives(FN) = ', cm[1,0])"
   ]
  },
  {
   "cell_type": "markdown",
   "metadata": {},
   "source": [
    "# Random Forest Classification"
   ]
  },
  {
   "cell_type": "code",
   "execution_count": 433,
   "metadata": {
    "pycharm": {
     "is_executing": true
    }
   },
   "outputs": [
    {
     "name": "stdout",
     "output_type": "stream",
     "text": [
      "Model accuracy score with 10 decision-trees : 0.9773\n"
     ]
    }
   ],
   "source": [
    "# With default number of trees\n",
    "\n",
    "rfc = RandomForestClassifier(random_state=0)\n",
    "rfc.fit(X_train, y_train)\n",
    "y_pred = rfc.predict(X_test)\n",
    "print('Model accuracy score with 10 decision-trees : {0:0.4f}'. format(accuracy_score(y_test, y_pred)))"
   ]
  },
  {
   "cell_type": "code",
   "execution_count": 434,
   "metadata": {
    "pycharm": {
     "is_executing": true
    }
   },
   "outputs": [
    {
     "name": "stdout",
     "output_type": "stream",
     "text": [
      "Model accuracy score with 100 decision-trees : 0.9773\n"
     ]
    }
   ],
   "source": [
    "# With 100 Decision trees\n",
    "\n",
    "rfc_100 = RandomForestClassifier(n_estimators=100, random_state=0)\n",
    "rfc_100.fit(X_train, y_train)\n",
    "y_pred_100 = rfc_100.predict(X_test)\n",
    "print('Model accuracy score with 100 decision-trees : {0:0.4f}'. format(accuracy_score(y_test, y_pred_100)))"
   ]
  },
  {
   "cell_type": "code",
   "execution_count": 435,
   "metadata": {
    "pycharm": {
     "is_executing": true
    }
   },
   "outputs": [
    {
     "name": "stdout",
     "output_type": "stream",
     "text": [
      "Model accuracy score with 20 decision-trees : 0.9773\n"
     ]
    }
   ],
   "source": [
    "# With 20 Decision trees\n",
    "\n",
    "rfc_20 = RandomForestClassifier(n_estimators=20, random_state=0)\n",
    "rfc_20.fit(X_train, y_train)\n",
    "y_pred_20 = rfc_20.predict(X_test)\n",
    "print('Model accuracy score with 20 decision-trees : {0:0.4f}'. format(accuracy_score(y_test, y_pred_20)))"
   ]
  },
  {
   "cell_type": "code",
   "execution_count": 436,
   "metadata": {
    "pycharm": {
     "is_executing": true
    }
   },
   "outputs": [
    {
     "name": "stdout",
     "output_type": "stream",
     "text": [
      "Model accuracy score with 150 decision-trees : 0.9773\n"
     ]
    }
   ],
   "source": [
    "rfc_150 = RandomForestClassifier(n_estimators=150, random_state=0)\n",
    "rfc_150.fit(X_train, y_train)\n",
    "y_pred_150 = rfc_150.predict(X_test)\n",
    "print('Model accuracy score with 150 decision-trees : {0:0.4f}'. format(accuracy_score(y_test, y_pred_150\n",
    "                                                                                      )))"
   ]
  },
  {
   "cell_type": "code",
   "execution_count": 437,
   "metadata": {},
   "outputs": [
    {
     "name": "stdout",
     "output_type": "stream",
     "text": [
      "Confusion matrix\n",
      "\n",
      " [[49  2  1]\n",
      " [ 0 34  0]\n",
      " [ 0  0 46]]\n",
      "\n",
      "True Positives(TP) =  49\n",
      "\n",
      "True Negatives(TN) =  34\n",
      "\n",
      "False Positives(FP) =  2\n",
      "\n",
      "False Negatives(FN) =  0\n"
     ]
    }
   ],
   "source": [
    "cm = confusion_matrix(y_test, y_pred_150)\n",
    "print('Confusion matrix\\n\\n', cm)\n",
    "print('\\nTrue Positives(TP) = ', cm[0,0])\n",
    "print('\\nTrue Negatives(TN) = ', cm[1,1])\n",
    "print('\\nFalse Positives(FP) = ', cm[0,1])\n",
    "print('\\nFalse Negatives(FN) = ', cm[1,0])"
   ]
  },
  {
   "cell_type": "markdown",
   "metadata": {},
   "source": [
    "Features important"
   ]
  },
  {
   "cell_type": "code",
   "execution_count": 357,
   "metadata": {},
   "outputs": [],
   "source": [
    "importances = rfc_100.feature_importances_\n",
    "sorted_indices = np.argsort(importances)[::-1]"
   ]
  },
  {
   "cell_type": "code",
   "execution_count": 358,
   "metadata": {},
   "outputs": [
    {
     "data": {
      "image/png": "[encoded data removed]",
      "text/plain": [
       "<Figure size 432x288 with 1 Axes>"
      ]
     },
     "metadata": {
      "needs_background": "light"
     },
     "output_type": "display_data"
    }
   ],
   "source": [
    "plt.title('Feature Importance')\n",
    "plt.bar(range(X_train.shape[1]), importances[sorted_indices], align='center', color=\"orange\")\n",
    "plt.xticks(range(X_train.shape[1]), X_train.columns[sorted_indices], rotation=90)\n",
    "plt.tight_layout()\n",
    "plt.show()"
   ]
  },
  {
   "cell_type": "code",
   "execution_count": null,
   "metadata": {},
   "outputs": [],
   "source": []
  }
 ],
 "metadata": {
  "kernelspec": {
   "display_name": "Python 3 (ipykernel)",
   "language": "python",
   "name": "python3"
  },
  "language_info": {
   "codemirror_mode": {
    "name": "ipython",
    "version": 3
   },
   "file_extension": ".py",
   "mimetype": "text/x-python",
   "name": "python",
   "nbconvert_exporter": "python",
   "pygments_lexer": "ipython3",
   "version": "3.9.4"
  }
 },
 "nbformat": 4,
 "nbformat_minor": 1
}
